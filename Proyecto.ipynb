{
 "cells": [
  {
   "cell_type": "markdown",
   "id": "c7f1c965",
   "metadata": {},
   "source": [
    "# Importación de librerías"
   ]
  },
  {
   "cell_type": "code",
   "execution_count": 1,
   "id": "eabe9815",
   "metadata": {},
   "outputs": [],
   "source": [
    "import pandas as pd \n",
    "import numpy as np \n",
    "import seaborn as sns \n",
    "import matplotlib.pyplot as plt\n",
    "import imblearn\n",
    "import warnings"
   ]
  },
  {
   "cell_type": "code",
   "execution_count": 2,
   "id": "b35da5a2",
   "metadata": {},
   "outputs": [],
   "source": [
    "from sklearn import preprocessing\n",
    "from sklearn import metrics\n",
    "from collections import Counter\n",
    "from IPython.display import display \n",
    "from sklearn.metrics import mutual_info_score \n",
    "from sklearn.linear_model import LogisticRegression\n",
    "from imblearn.over_sampling import SMOTE\n",
    "from sklearn.model_selection import train_test_split, cross_validate, cross_val_score"
   ]
  },
  {
   "cell_type": "code",
   "execution_count": 3,
   "id": "890e6f7d",
   "metadata": {},
   "outputs": [],
   "source": [
    "pd.set_option('display.max_rows', None)\n",
    "pd.set_option('display.max_columns', None)"
   ]
  },
  {
   "cell_type": "code",
   "execution_count": 4,
   "id": "104771bf",
   "metadata": {},
   "outputs": [],
   "source": [
    "warnings.filterwarnings('ignore')"
   ]
  },
  {
   "cell_type": "markdown",
   "id": "3c71f93f",
   "metadata": {},
   "source": [
    "# Obtención del conjunto de datos"
   ]
  },
  {
   "cell_type": "markdown",
   "id": "134f7110",
   "metadata": {},
   "source": [
    "El siguiente proyecto emplea un conjunto de datos relacionados a la tasa de abandono."
   ]
  },
  {
   "cell_type": "code",
   "execution_count": 5,
   "id": "759117c6",
   "metadata": {},
   "outputs": [],
   "source": [
    "df0 = pd.read_csv('Telco-Customer-Churn.csv')"
   ]
  },
  {
   "cell_type": "code",
   "execution_count": 6,
   "id": "ba3b864b",
   "metadata": {},
   "outputs": [
    {
     "data": {
      "text/plain": [
       "(7043, 21)"
      ]
     },
     "execution_count": 6,
     "metadata": {},
     "output_type": "execute_result"
    }
   ],
   "source": [
    "df0.shape"
   ]
  },
  {
   "cell_type": "code",
   "execution_count": 7,
   "id": "41730724",
   "metadata": {},
   "outputs": [
    {
     "data": {
      "text/html": [
       "<div>\n",
       "<style scoped>\n",
       "    .dataframe tbody tr th:only-of-type {\n",
       "        vertical-align: middle;\n",
       "    }\n",
       "\n",
       "    .dataframe tbody tr th {\n",
       "        vertical-align: top;\n",
       "    }\n",
       "\n",
       "    .dataframe thead th {\n",
       "        text-align: right;\n",
       "    }\n",
       "</style>\n",
       "<table border=\"1\" class=\"dataframe\">\n",
       "  <thead>\n",
       "    <tr style=\"text-align: right;\">\n",
       "      <th></th>\n",
       "      <th>customerID</th>\n",
       "      <th>gender</th>\n",
       "      <th>SeniorCitizen</th>\n",
       "      <th>Partner</th>\n",
       "      <th>Dependents</th>\n",
       "      <th>tenure</th>\n",
       "      <th>PhoneService</th>\n",
       "      <th>MultipleLines</th>\n",
       "      <th>InternetService</th>\n",
       "      <th>OnlineSecurity</th>\n",
       "      <th>OnlineBackup</th>\n",
       "      <th>DeviceProtection</th>\n",
       "      <th>TechSupport</th>\n",
       "      <th>StreamingTV</th>\n",
       "      <th>StreamingMovies</th>\n",
       "      <th>Contract</th>\n",
       "      <th>PaperlessBilling</th>\n",
       "      <th>PaymentMethod</th>\n",
       "      <th>MonthlyCharges</th>\n",
       "      <th>TotalCharges</th>\n",
       "      <th>Churn</th>\n",
       "    </tr>\n",
       "  </thead>\n",
       "  <tbody>\n",
       "    <tr>\n",
       "      <th>0</th>\n",
       "      <td>7590-VHVEG</td>\n",
       "      <td>Female</td>\n",
       "      <td>0</td>\n",
       "      <td>Yes</td>\n",
       "      <td>No</td>\n",
       "      <td>1</td>\n",
       "      <td>No</td>\n",
       "      <td>No phone service</td>\n",
       "      <td>DSL</td>\n",
       "      <td>No</td>\n",
       "      <td>Yes</td>\n",
       "      <td>No</td>\n",
       "      <td>No</td>\n",
       "      <td>No</td>\n",
       "      <td>No</td>\n",
       "      <td>Month-to-month</td>\n",
       "      <td>Yes</td>\n",
       "      <td>Electronic check</td>\n",
       "      <td>29.85</td>\n",
       "      <td>29.85</td>\n",
       "      <td>No</td>\n",
       "    </tr>\n",
       "    <tr>\n",
       "      <th>1</th>\n",
       "      <td>5575-GNVDE</td>\n",
       "      <td>Male</td>\n",
       "      <td>0</td>\n",
       "      <td>No</td>\n",
       "      <td>No</td>\n",
       "      <td>34</td>\n",
       "      <td>Yes</td>\n",
       "      <td>No</td>\n",
       "      <td>DSL</td>\n",
       "      <td>Yes</td>\n",
       "      <td>No</td>\n",
       "      <td>Yes</td>\n",
       "      <td>No</td>\n",
       "      <td>No</td>\n",
       "      <td>No</td>\n",
       "      <td>One year</td>\n",
       "      <td>No</td>\n",
       "      <td>Mailed check</td>\n",
       "      <td>56.95</td>\n",
       "      <td>1889.5</td>\n",
       "      <td>No</td>\n",
       "    </tr>\n",
       "    <tr>\n",
       "      <th>2</th>\n",
       "      <td>3668-QPYBK</td>\n",
       "      <td>Male</td>\n",
       "      <td>0</td>\n",
       "      <td>No</td>\n",
       "      <td>No</td>\n",
       "      <td>2</td>\n",
       "      <td>Yes</td>\n",
       "      <td>No</td>\n",
       "      <td>DSL</td>\n",
       "      <td>Yes</td>\n",
       "      <td>Yes</td>\n",
       "      <td>No</td>\n",
       "      <td>No</td>\n",
       "      <td>No</td>\n",
       "      <td>No</td>\n",
       "      <td>Month-to-month</td>\n",
       "      <td>Yes</td>\n",
       "      <td>Mailed check</td>\n",
       "      <td>53.85</td>\n",
       "      <td>108.15</td>\n",
       "      <td>Yes</td>\n",
       "    </tr>\n",
       "  </tbody>\n",
       "</table>\n",
       "</div>"
      ],
      "text/plain": [
       "   customerID  gender  SeniorCitizen Partner Dependents  tenure PhoneService  \\\n",
       "0  7590-VHVEG  Female              0     Yes         No       1           No   \n",
       "1  5575-GNVDE    Male              0      No         No      34          Yes   \n",
       "2  3668-QPYBK    Male              0      No         No       2          Yes   \n",
       "\n",
       "      MultipleLines InternetService OnlineSecurity OnlineBackup  \\\n",
       "0  No phone service             DSL             No          Yes   \n",
       "1                No             DSL            Yes           No   \n",
       "2                No             DSL            Yes          Yes   \n",
       "\n",
       "  DeviceProtection TechSupport StreamingTV StreamingMovies        Contract  \\\n",
       "0               No          No          No              No  Month-to-month   \n",
       "1              Yes          No          No              No        One year   \n",
       "2               No          No          No              No  Month-to-month   \n",
       "\n",
       "  PaperlessBilling     PaymentMethod  MonthlyCharges TotalCharges Churn  \n",
       "0              Yes  Electronic check           29.85        29.85    No  \n",
       "1               No      Mailed check           56.95       1889.5    No  \n",
       "2              Yes      Mailed check           53.85       108.15   Yes  "
      ]
     },
     "execution_count": 7,
     "metadata": {},
     "output_type": "execute_result"
    }
   ],
   "source": [
    "df0.head(3)"
   ]
  },
  {
   "cell_type": "markdown",
   "id": "eb68c8a6",
   "metadata": {},
   "source": [
    "Se puede apreciar que este conjunto de datos, inicialmente, posee una cantidad de 7043 registros con 21 variables. A continuación, se describen las columnas que componen el mismo:\n",
    "\n",
    "<ul>\n",
    "    <li>CustomerID => Identificación del cliente.</li>\n",
    "    <li>Gender => Masculino/Femenino.</li>\n",
    "    <li>Senior Citizen => Si el cliente es un jubilado (0/1).</li>\n",
    "    <li>Partner => Si vive con una pareja.</li>\n",
    "    <li>Dependents => Si tienen dependientes.</li>\n",
    "    <li>Tenure => Número de meses desde el inicio del contrato.</li>\n",
    "    <li>Phone service => Si tienen servicio telefónico.</li>\n",
    "    <li>Multiple lines => Si tienen múltiples líneas telefónicas.</li>\n",
    "    <li>Internet service => El tipo de servicio de Internet.</li>\n",
    "    <li>Online security => Si la seguridad en línea está habilitada.</li>\n",
    "    <li>Online backup => Si el servicio de copia de seguridad en línea está habilitado.</li>\n",
    "    <li>Device protection => Si el servicio de protección del dispositivo está habilitado.</li>\n",
    "    <li>Tech support => Si el cliente tiene soporte técnico.</li>\n",
    "    <li>Streaming TV => Si el servicio de transmisión de TV está habilitado.</li>\n",
    "    <li>Streaming movies => Si el servicio de streaming de películas está habilitado.</li>\n",
    "    <li>Contract => El tipo de contrato.</li>\n",
    "    <li>Paperless billing => Si la facturación es sin papel.</li>\n",
    "    <li>Payment method => Método de pago.</li>\n",
    "    <li>Monthly charges => La cantidad cobrada mensualmente.</li>\n",
    "    <li>Total charges => El monto total cobrado.</li>\n",
    "    <li>Churn => Si el cliente ha cancelado el contrato.</li>    \n",
    "<ul>"
   ]
  },
  {
   "cell_type": "markdown",
   "id": "39cd86cf",
   "metadata": {},
   "source": [
    "# Depuración y limpieza de datos"
   ]
  },
  {
   "cell_type": "markdown",
   "id": "cfce72a0",
   "metadata": {},
   "source": [
    "Se presentan variables cuantitativas como \"MonthlyCharges\" y cualitativas de tipo nominal, entre ellas, \"Gender\". La variable objeto de estudio corresponde a \"Churn\", la cual se empleará para realizar las predicciones de tasa de abandono de los clientes mediante un modelo de clasificación usando regresión logística."
   ]
  },
  {
   "cell_type": "code",
   "execution_count": 8,
   "id": "f9d9ec84",
   "metadata": {},
   "outputs": [
    {
     "data": {
      "text/plain": [
       "customerID          0\n",
       "gender              0\n",
       "SeniorCitizen       0\n",
       "Partner             0\n",
       "Dependents          0\n",
       "tenure              0\n",
       "PhoneService        0\n",
       "MultipleLines       0\n",
       "InternetService     0\n",
       "OnlineSecurity      0\n",
       "OnlineBackup        0\n",
       "DeviceProtection    0\n",
       "TechSupport         0\n",
       "StreamingTV         0\n",
       "StreamingMovies     0\n",
       "Contract            0\n",
       "PaperlessBilling    0\n",
       "PaymentMethod       0\n",
       "MonthlyCharges      0\n",
       "TotalCharges        0\n",
       "Churn               0\n",
       "dtype: int64"
      ]
     },
     "execution_count": 8,
     "metadata": {},
     "output_type": "execute_result"
    }
   ],
   "source": [
    "df0.isnull().sum()"
   ]
  },
  {
   "cell_type": "markdown",
   "id": "16abc4c2",
   "metadata": {},
   "source": [
    "De por sí, es evidente que no se encuentran datos nulos en el conjunto de datos, mas, habrá que corroborar la calidad de los datos, verificando el impacto de los datos duplicados al haber una columna referente al id de cada cliente (customerID). "
   ]
  },
  {
   "cell_type": "code",
   "execution_count": 9,
   "id": "de07ce91",
   "metadata": {},
   "outputs": [
    {
     "data": {
      "text/plain": [
       "7043"
      ]
     },
     "execution_count": 9,
     "metadata": {},
     "output_type": "execute_result"
    }
   ],
   "source": [
    "df0['customerID'].nunique()"
   ]
  },
  {
   "cell_type": "markdown",
   "id": "7fc8ca3d",
   "metadata": {},
   "source": [
    "La cantidad de valores únicos es igual a la cantidad de registros, por ende, no se encuentran valores duplicados en esta columna."
   ]
  },
  {
   "cell_type": "code",
   "execution_count": 10,
   "id": "e53e5646",
   "metadata": {},
   "outputs": [
    {
     "name": "stdout",
     "output_type": "stream",
     "text": [
      "<class 'pandas.core.frame.DataFrame'>\n",
      "RangeIndex: 7043 entries, 0 to 7042\n",
      "Data columns (total 21 columns):\n",
      " #   Column            Non-Null Count  Dtype  \n",
      "---  ------            --------------  -----  \n",
      " 0   customerID        7043 non-null   object \n",
      " 1   gender            7043 non-null   object \n",
      " 2   SeniorCitizen     7043 non-null   int64  \n",
      " 3   Partner           7043 non-null   object \n",
      " 4   Dependents        7043 non-null   object \n",
      " 5   tenure            7043 non-null   int64  \n",
      " 6   PhoneService      7043 non-null   object \n",
      " 7   MultipleLines     7043 non-null   object \n",
      " 8   InternetService   7043 non-null   object \n",
      " 9   OnlineSecurity    7043 non-null   object \n",
      " 10  OnlineBackup      7043 non-null   object \n",
      " 11  DeviceProtection  7043 non-null   object \n",
      " 12  TechSupport       7043 non-null   object \n",
      " 13  StreamingTV       7043 non-null   object \n",
      " 14  StreamingMovies   7043 non-null   object \n",
      " 15  Contract          7043 non-null   object \n",
      " 16  PaperlessBilling  7043 non-null   object \n",
      " 17  PaymentMethod     7043 non-null   object \n",
      " 18  MonthlyCharges    7043 non-null   float64\n",
      " 19  TotalCharges      7043 non-null   object \n",
      " 20  Churn             7043 non-null   object \n",
      "dtypes: float64(1), int64(2), object(18)\n",
      "memory usage: 1.1+ MB\n"
     ]
    }
   ],
   "source": [
    "df0.info()"
   ]
  },
  {
   "cell_type": "markdown",
   "id": "cdc21679",
   "metadata": {},
   "source": [
    "Realizando una revisión del tipo de dato de cada columna, se evidencia que la columna \"TotalCharges\" se comprende de valores flotantes pero su tipo corresponde a un \"objeto\". Para verificar si el casting es posible, se procede a evaluar el contenido de esta columna."
   ]
  },
  {
   "cell_type": "code",
   "execution_count": 11,
   "id": "a5d0de67",
   "metadata": {},
   "outputs": [
    {
     "data": {
      "text/html": [
       "<div>\n",
       "<style scoped>\n",
       "    .dataframe tbody tr th:only-of-type {\n",
       "        vertical-align: middle;\n",
       "    }\n",
       "\n",
       "    .dataframe tbody tr th {\n",
       "        vertical-align: top;\n",
       "    }\n",
       "\n",
       "    .dataframe thead th {\n",
       "        text-align: right;\n",
       "    }\n",
       "</style>\n",
       "<table border=\"1\" class=\"dataframe\">\n",
       "  <thead>\n",
       "    <tr style=\"text-align: right;\">\n",
       "      <th></th>\n",
       "      <th>MonthlyCharges</th>\n",
       "      <th>TotalCharges</th>\n",
       "      <th>Churn</th>\n",
       "    </tr>\n",
       "  </thead>\n",
       "  <tbody>\n",
       "    <tr>\n",
       "      <th>5982</th>\n",
       "      <td>19.80</td>\n",
       "      <td>304.6</td>\n",
       "      <td>No</td>\n",
       "    </tr>\n",
       "    <tr>\n",
       "      <th>4481</th>\n",
       "      <td>40.15</td>\n",
       "      <td>1626.05</td>\n",
       "      <td>No</td>\n",
       "    </tr>\n",
       "    <tr>\n",
       "      <th>3172</th>\n",
       "      <td>95.90</td>\n",
       "      <td>2448.75</td>\n",
       "      <td>Yes</td>\n",
       "    </tr>\n",
       "    <tr>\n",
       "      <th>5208</th>\n",
       "      <td>59.45</td>\n",
       "      <td>780.85</td>\n",
       "      <td>No</td>\n",
       "    </tr>\n",
       "    <tr>\n",
       "      <th>1779</th>\n",
       "      <td>91.15</td>\n",
       "      <td>168.5</td>\n",
       "      <td>No</td>\n",
       "    </tr>\n",
       "  </tbody>\n",
       "</table>\n",
       "</div>"
      ],
      "text/plain": [
       "      MonthlyCharges TotalCharges Churn\n",
       "5982           19.80        304.6    No\n",
       "4481           40.15      1626.05    No\n",
       "3172           95.90      2448.75   Yes\n",
       "5208           59.45       780.85    No\n",
       "1779           91.15        168.5    No"
      ]
     },
     "execution_count": 11,
     "metadata": {},
     "output_type": "execute_result"
    }
   ],
   "source": [
    "df0[df0.columns[-3:]].sample(5)"
   ]
  },
  {
   "cell_type": "code",
   "execution_count": 12,
   "id": "b706ac2f",
   "metadata": {
    "scrolled": true
   },
   "outputs": [],
   "source": [
    "df0['TotalCharges'] = pd.to_numeric(df0['TotalCharges'], errors='coerce')"
   ]
  },
  {
   "cell_type": "markdown",
   "id": "b29e60c1",
   "metadata": {},
   "source": [
    "Se emplea la función \"to_numeric\" porque, si entre esos datos hay cadenadas de valores, se generaría una excepción ValueError. Esta función emplea el parámetro \"errors\" con el argumento \"coerce\", transformando así, los valores no numéricos a nulos."
   ]
  },
  {
   "cell_type": "code",
   "execution_count": 13,
   "id": "773118dd",
   "metadata": {},
   "outputs": [
    {
     "data": {
      "text/plain": [
       "customerID           0\n",
       "gender               0\n",
       "SeniorCitizen        0\n",
       "Partner              0\n",
       "Dependents           0\n",
       "tenure               0\n",
       "PhoneService         0\n",
       "MultipleLines        0\n",
       "InternetService      0\n",
       "OnlineSecurity       0\n",
       "OnlineBackup         0\n",
       "DeviceProtection     0\n",
       "TechSupport          0\n",
       "StreamingTV          0\n",
       "StreamingMovies      0\n",
       "Contract             0\n",
       "PaperlessBilling     0\n",
       "PaymentMethod        0\n",
       "MonthlyCharges       0\n",
       "TotalCharges        11\n",
       "Churn                0\n",
       "dtype: int64"
      ]
     },
     "execution_count": 13,
     "metadata": {},
     "output_type": "execute_result"
    }
   ],
   "source": [
    "df0.isnull().sum()"
   ]
  },
  {
   "cell_type": "code",
   "execution_count": 14,
   "id": "15487b54",
   "metadata": {},
   "outputs": [],
   "source": [
    "df0['TotalCharges'] = df0['TotalCharges'].fillna(0) "
   ]
  },
  {
   "cell_type": "markdown",
   "id": "b7313746",
   "metadata": {},
   "source": [
    "Y así, los valores nulos generados anteriormente, se transforman en 0."
   ]
  },
  {
   "cell_type": "code",
   "execution_count": 15,
   "id": "dfd88e83",
   "metadata": {},
   "outputs": [],
   "source": [
    "df = df0.copy()"
   ]
  },
  {
   "cell_type": "markdown",
   "id": "55b24d33",
   "metadata": {},
   "source": [
    "# Exploración de datos"
   ]
  },
  {
   "cell_type": "markdown",
   "id": "48eb95cb",
   "metadata": {},
   "source": [
    "Para poder realizar un análisis univariado y bivariado, siendo el abandono de clientes (Churn) nuestra variable objeto de estudio, es necesario que la vaiable mencionada pueda ser tratada como una variable cuantitativa. "
   ]
  },
  {
   "cell_type": "code",
   "execution_count": 16,
   "id": "71326c29",
   "metadata": {},
   "outputs": [],
   "source": [
    "df['Churn'] = (df['Churn'] == 'Yes').astype(int) "
   ]
  },
  {
   "cell_type": "markdown",
   "id": "f6c6f9a2",
   "metadata": {},
   "source": [
    "Con el código anterior, se ha procedido a realizar la conversión de los datos, \"Yes\" y \"No\", a un \"1\" y \"0\", respectivamente."
   ]
  },
  {
   "cell_type": "code",
   "execution_count": 17,
   "id": "65937b2c",
   "metadata": {},
   "outputs": [
    {
     "data": {
      "text/plain": [
       "0.265"
      ]
     },
     "execution_count": 17,
     "metadata": {},
     "output_type": "execute_result"
    }
   ],
   "source": [
    "round(df['Churn'].mean(), 3)"
   ]
  },
  {
   "cell_type": "markdown",
   "id": "6ddf153a",
   "metadata": {},
   "source": [
    "La media de nuestra variable objetivo es ≈0.265. Este dato será importante para el análisis de las demás variables."
   ]
  },
  {
   "cell_type": "code",
   "execution_count": 18,
   "id": "6c296c44",
   "metadata": {},
   "outputs": [],
   "source": [
    "mediaGlobal = df['Churn'].mean()"
   ]
  },
  {
   "cell_type": "code",
   "execution_count": 19,
   "id": "cc5da623",
   "metadata": {},
   "outputs": [],
   "source": [
    "categoricas = ['gender', 'SeniorCitizen', 'Partner', 'Dependents', \n",
    " 'PhoneService', 'MultipleLines', 'InternetService', \n",
    " 'OnlineSecurity', 'OnlineBackup', 'DeviceProtection', \n",
    " 'TechSupport', 'StreamingTV', 'StreamingMovies', \n",
    " 'Contract', 'PaperlessBilling', 'PaymentMethod'] \n",
    "numericas = ['tenure', 'MonthlyCharges', 'TotalCharges'] "
   ]
  },
  {
   "cell_type": "code",
   "execution_count": 20,
   "id": "cafd7f1e",
   "metadata": {},
   "outputs": [
    {
     "data": {
      "text/html": [
       "<div>\n",
       "<style scoped>\n",
       "    .dataframe tbody tr th:only-of-type {\n",
       "        vertical-align: middle;\n",
       "    }\n",
       "\n",
       "    .dataframe tbody tr th {\n",
       "        vertical-align: top;\n",
       "    }\n",
       "\n",
       "    .dataframe thead th {\n",
       "        text-align: right;\n",
       "    }\n",
       "</style>\n",
       "<table border=\"1\" class=\"dataframe\">\n",
       "  <thead>\n",
       "    <tr style=\"text-align: right;\">\n",
       "      <th></th>\n",
       "      <th>SeniorCitizen</th>\n",
       "      <th>tenure</th>\n",
       "      <th>MonthlyCharges</th>\n",
       "      <th>TotalCharges</th>\n",
       "      <th>Churn</th>\n",
       "    </tr>\n",
       "  </thead>\n",
       "  <tbody>\n",
       "    <tr>\n",
       "      <th>count</th>\n",
       "      <td>7043.000000</td>\n",
       "      <td>7043.000000</td>\n",
       "      <td>7043.000000</td>\n",
       "      <td>7043.000000</td>\n",
       "      <td>7043.000000</td>\n",
       "    </tr>\n",
       "    <tr>\n",
       "      <th>mean</th>\n",
       "      <td>0.162147</td>\n",
       "      <td>32.371149</td>\n",
       "      <td>64.761692</td>\n",
       "      <td>2279.734304</td>\n",
       "      <td>0.265370</td>\n",
       "    </tr>\n",
       "    <tr>\n",
       "      <th>std</th>\n",
       "      <td>0.368612</td>\n",
       "      <td>24.559481</td>\n",
       "      <td>30.090047</td>\n",
       "      <td>2266.794470</td>\n",
       "      <td>0.441561</td>\n",
       "    </tr>\n",
       "    <tr>\n",
       "      <th>min</th>\n",
       "      <td>0.000000</td>\n",
       "      <td>0.000000</td>\n",
       "      <td>18.250000</td>\n",
       "      <td>0.000000</td>\n",
       "      <td>0.000000</td>\n",
       "    </tr>\n",
       "    <tr>\n",
       "      <th>25%</th>\n",
       "      <td>0.000000</td>\n",
       "      <td>9.000000</td>\n",
       "      <td>35.500000</td>\n",
       "      <td>398.550000</td>\n",
       "      <td>0.000000</td>\n",
       "    </tr>\n",
       "    <tr>\n",
       "      <th>50%</th>\n",
       "      <td>0.000000</td>\n",
       "      <td>29.000000</td>\n",
       "      <td>70.350000</td>\n",
       "      <td>1394.550000</td>\n",
       "      <td>0.000000</td>\n",
       "    </tr>\n",
       "    <tr>\n",
       "      <th>75%</th>\n",
       "      <td>0.000000</td>\n",
       "      <td>55.000000</td>\n",
       "      <td>89.850000</td>\n",
       "      <td>3786.600000</td>\n",
       "      <td>1.000000</td>\n",
       "    </tr>\n",
       "    <tr>\n",
       "      <th>max</th>\n",
       "      <td>1.000000</td>\n",
       "      <td>72.000000</td>\n",
       "      <td>118.750000</td>\n",
       "      <td>8684.800000</td>\n",
       "      <td>1.000000</td>\n",
       "    </tr>\n",
       "  </tbody>\n",
       "</table>\n",
       "</div>"
      ],
      "text/plain": [
       "       SeniorCitizen       tenure  MonthlyCharges  TotalCharges        Churn\n",
       "count    7043.000000  7043.000000     7043.000000   7043.000000  7043.000000\n",
       "mean        0.162147    32.371149       64.761692   2279.734304     0.265370\n",
       "std         0.368612    24.559481       30.090047   2266.794470     0.441561\n",
       "min         0.000000     0.000000       18.250000      0.000000     0.000000\n",
       "25%         0.000000     9.000000       35.500000    398.550000     0.000000\n",
       "50%         0.000000    29.000000       70.350000   1394.550000     0.000000\n",
       "75%         0.000000    55.000000       89.850000   3786.600000     1.000000\n",
       "max         1.000000    72.000000      118.750000   8684.800000     1.000000"
      ]
     },
     "execution_count": 20,
     "metadata": {},
     "output_type": "execute_result"
    }
   ],
   "source": [
    "df.describe()"
   ]
  },
  {
   "cell_type": "markdown",
   "id": "ed9182db",
   "metadata": {},
   "source": [
    "La información estadistica anterior pertenece a las variables cuantitativas, donde se aprecia lo siguiente:\n",
    "\n",
    "<ul>\n",
    "    <li>En la variable \"tenure\", que corresponde al número de meses desde que inició el contrato, existe una media de ≈32, siendo su valor máximo de 72.</li>\n",
    "    <li>Aunque el valor mínimo de \"MonthlyCharges\" sea de ≈18.25, el valor mínimo de \"TotalCharges\" es de 0. Esto se debe a la operación realizada anteriormente, donde se reemplazó con 0 los valores nulos.</li>\n",
    "    <li>\"SeniorCitizen\" se excluye de este análisis, aun teniendo valores cuantitativos, debido a que la naturaleza de esta variable es cualitativa, en donde, se le ha aplicado un proceso de label encoding, convirtiendo las etiquetas No y Sí (para este caso), en 0 y 1, respectivamente.</li>\n",
    "<ul>"
   ]
  },
  {
   "cell_type": "code",
   "execution_count": 21,
   "id": "f993f1b3",
   "metadata": {},
   "outputs": [
    {
     "data": {
      "image/png": "[encoded data removed]",
      "text/plain": [
       "<Figure size 640x480 with 1 Axes>"
      ]
     },
     "metadata": {},
     "output_type": "display_data"
    }
   ],
   "source": [
    "ax = sns.histplot(df['tenure'])\n",
    "plt.title(\"Gráfico 1: Histograma de la variable 'tenure'\")\n",
    "plt.xlabel('Permanencia')\n",
    "plt.ylabel('Frecuencia')\n",
    "plt.show()"
   ]
  },
  {
   "cell_type": "code",
   "execution_count": 22,
   "id": "9500fe57",
   "metadata": {},
   "outputs": [
    {
     "data": {
      "image/png": "[encoded data removed]",
      "text/plain": [
       "<Figure size 640x480 with 1 Axes>"
      ]
     },
     "metadata": {},
     "output_type": "display_data"
    }
   ],
   "source": [
    "ax = sns.histplot(df['MonthlyCharges'])\n",
    "plt.title(\"Gráfico 2: Histograma de la variable 'MonthlyCharges'\")\n",
    "plt.xlabel('Cargas mensuales')\n",
    "plt.ylabel('Frecuencia')\n",
    "plt.show()"
   ]
  },
  {
   "cell_type": "code",
   "execution_count": 23,
   "id": "68e59573",
   "metadata": {},
   "outputs": [
    {
     "data": {
      "image/png": "[encoded data removed]",
      "text/plain": [
       "<Figure size 640x480 with 1 Axes>"
      ]
     },
     "metadata": {},
     "output_type": "display_data"
    }
   ],
   "source": [
    "ax = sns.histplot(df['TotalCharges'], kde = True)\n",
    "plt.title(\"Gráfico 3: Histograma de la variable 'TotalCharges'\")\n",
    "plt.xlabel('Cargas totales')\n",
    "plt.ylabel('Frecuencia')\n",
    "plt.show()"
   ]
  },
  {
   "cell_type": "markdown",
   "id": "b04c43f1",
   "metadata": {},
   "source": [
    "Los gráficos anteriores, pertenecientes a las variables cuantitativas, muestran la distribución de los datos para cada una. En \"TotalCharges\" se evidencia un sesgo hacia la derecha."
   ]
  },
  {
   "cell_type": "code",
   "execution_count": 24,
   "id": "4ab88133",
   "metadata": {},
   "outputs": [
    {
     "data": {
      "image/png": "[encoded data removed]",
      "text/plain": [
       "<Figure size 640x480 with 1 Axes>"
      ]
     },
     "metadata": {},
     "output_type": "display_data"
    }
   ],
   "source": [
    "ax = sns.countplot(x = df['SeniorCitizen'], hue = df['Churn'])\n",
    "for container in ax.containers:\n",
    "    ax.bar_label(container)\n",
    "plt.title(\"Gráfico 4: Relación entre 'Senior Citizen' y 'Churn'\")\n",
    "plt.show()"
   ]
  },
  {
   "cell_type": "code",
   "execution_count": 25,
   "id": "d788fa23",
   "metadata": {},
   "outputs": [
    {
     "data": {
      "image/png": "[encoded data removed]",
      "text/plain": [
       "<Figure size 640x480 with 1 Axes>"
      ]
     },
     "metadata": {},
     "output_type": "display_data"
    }
   ],
   "source": [
    "ax = sns.countplot(x = df['gender'], hue = df['Churn'])\n",
    "for container in ax.containers:\n",
    "    ax.bar_label(container)\n",
    "plt.title(\"Gráfico 5: Relación entre 'Género' y 'Churn'\")\n",
    "plt.show()"
   ]
  },
  {
   "cell_type": "code",
   "execution_count": 26,
   "id": "f3c992a6",
   "metadata": {},
   "outputs": [
    {
     "data": {
      "text/html": [
       "<div>\n",
       "<style scoped>\n",
       "    .dataframe tbody tr th:only-of-type {\n",
       "        vertical-align: middle;\n",
       "    }\n",
       "\n",
       "    .dataframe tbody tr th {\n",
       "        vertical-align: top;\n",
       "    }\n",
       "\n",
       "    .dataframe thead th {\n",
       "        text-align: right;\n",
       "    }\n",
       "</style>\n",
       "<table border=\"1\" class=\"dataframe\">\n",
       "  <thead>\n",
       "    <tr style=\"text-align: right;\">\n",
       "      <th></th>\n",
       "      <th>mean</th>\n",
       "    </tr>\n",
       "    <tr>\n",
       "      <th>gender</th>\n",
       "      <th></th>\n",
       "    </tr>\n",
       "  </thead>\n",
       "  <tbody>\n",
       "    <tr>\n",
       "      <th>Female</th>\n",
       "      <td>0.269209</td>\n",
       "    </tr>\n",
       "    <tr>\n",
       "      <th>Male</th>\n",
       "      <td>0.261603</td>\n",
       "    </tr>\n",
       "  </tbody>\n",
       "</table>\n",
       "</div>"
      ],
      "text/plain": [
       "            mean\n",
       "gender          \n",
       "Female  0.269209\n",
       "Male    0.261603"
      ]
     },
     "execution_count": 26,
     "metadata": {},
     "output_type": "execute_result"
    }
   ],
   "source": [
    "df.groupby(by='gender').Churn.agg(['mean'])"
   ]
  },
  {
   "cell_type": "markdown",
   "id": "d0b45f10",
   "metadata": {},
   "source": [
    "La variable gender posee dos valores, \"Male\" y \"Female\" y sus medias correspondientes son 0.269 y 0.216, es decir, no existe mucha diferencia con la media de la varaible objetivo."
   ]
  },
  {
   "cell_type": "code",
   "execution_count": 27,
   "id": "b8308f7e",
   "metadata": {},
   "outputs": [
    {
     "data": {
      "image/png": "[encoded data removed]",
      "text/plain": [
       "<Figure size 640x480 with 1 Axes>"
      ]
     },
     "metadata": {},
     "output_type": "display_data"
    }
   ],
   "source": [
    "ax = sns.countplot(x = df['Partner'], hue = df['Churn'])\n",
    "for container in ax.containers:\n",
    "    ax.bar_label(container)\n",
    "plt.title(\"Gráfico 6: Relación entre 'Partner' y 'Churn'\")\n",
    "plt.show()"
   ]
  },
  {
   "cell_type": "code",
   "execution_count": 28,
   "id": "0865d247",
   "metadata": {},
   "outputs": [
    {
     "data": {
      "text/html": [
       "<div>\n",
       "<style scoped>\n",
       "    .dataframe tbody tr th:only-of-type {\n",
       "        vertical-align: middle;\n",
       "    }\n",
       "\n",
       "    .dataframe tbody tr th {\n",
       "        vertical-align: top;\n",
       "    }\n",
       "\n",
       "    .dataframe thead th {\n",
       "        text-align: right;\n",
       "    }\n",
       "</style>\n",
       "<table border=\"1\" class=\"dataframe\">\n",
       "  <thead>\n",
       "    <tr style=\"text-align: right;\">\n",
       "      <th></th>\n",
       "      <th>mean</th>\n",
       "    </tr>\n",
       "    <tr>\n",
       "      <th>Partner</th>\n",
       "      <th></th>\n",
       "    </tr>\n",
       "  </thead>\n",
       "  <tbody>\n",
       "    <tr>\n",
       "      <th>No</th>\n",
       "      <td>0.329580</td>\n",
       "    </tr>\n",
       "    <tr>\n",
       "      <th>Yes</th>\n",
       "      <td>0.196649</td>\n",
       "    </tr>\n",
       "  </tbody>\n",
       "</table>\n",
       "</div>"
      ],
      "text/plain": [
       "             mean\n",
       "Partner          \n",
       "No       0.329580\n",
       "Yes      0.196649"
      ]
     },
     "execution_count": 28,
     "metadata": {},
     "output_type": "execute_result"
    }
   ],
   "source": [
    "df.groupby(by='Partner').Churn.agg(['mean'])"
   ]
  },
  {
   "cell_type": "code",
   "execution_count": 29,
   "id": "c7c9985a",
   "metadata": {},
   "outputs": [
    {
     "data": {
      "image/png": "[encoded data removed]",
      "text/plain": [
       "<Figure size 640x480 with 1 Axes>"
      ]
     },
     "metadata": {},
     "output_type": "display_data"
    }
   ],
   "source": [
    "ax = sns.countplot(x = df['Dependents'], hue = df['Churn'])\n",
    "for container in ax.containers:\n",
    "    ax.bar_label(container)\n",
    "plt.title(\"Gráfico 7: Relación entre 'Dependents' y 'Churn'\")\n",
    "plt.show()"
   ]
  },
  {
   "cell_type": "code",
   "execution_count": 30,
   "id": "4715cb1e",
   "metadata": {},
   "outputs": [
    {
     "data": {
      "text/html": [
       "<div>\n",
       "<style scoped>\n",
       "    .dataframe tbody tr th:only-of-type {\n",
       "        vertical-align: middle;\n",
       "    }\n",
       "\n",
       "    .dataframe tbody tr th {\n",
       "        vertical-align: top;\n",
       "    }\n",
       "\n",
       "    .dataframe thead th {\n",
       "        text-align: right;\n",
       "    }\n",
       "</style>\n",
       "<table border=\"1\" class=\"dataframe\">\n",
       "  <thead>\n",
       "    <tr style=\"text-align: right;\">\n",
       "      <th></th>\n",
       "      <th>mean</th>\n",
       "    </tr>\n",
       "    <tr>\n",
       "      <th>Dependents</th>\n",
       "      <th></th>\n",
       "    </tr>\n",
       "  </thead>\n",
       "  <tbody>\n",
       "    <tr>\n",
       "      <th>No</th>\n",
       "      <td>0.312791</td>\n",
       "    </tr>\n",
       "    <tr>\n",
       "      <th>Yes</th>\n",
       "      <td>0.154502</td>\n",
       "    </tr>\n",
       "  </tbody>\n",
       "</table>\n",
       "</div>"
      ],
      "text/plain": [
       "                mean\n",
       "Dependents          \n",
       "No          0.312791\n",
       "Yes         0.154502"
      ]
     },
     "execution_count": 30,
     "metadata": {},
     "output_type": "execute_result"
    }
   ],
   "source": [
    "df.groupby(by='Dependents').Churn.agg(['mean'])"
   ]
  },
  {
   "cell_type": "code",
   "execution_count": 31,
   "id": "3603c809",
   "metadata": {},
   "outputs": [
    {
     "data": {
      "image/png": "[encoded data removed]",
      "text/plain": [
       "<Figure size 640x480 with 1 Axes>"
      ]
     },
     "metadata": {},
     "output_type": "display_data"
    }
   ],
   "source": [
    "ax = sns.countplot(x = df['PhoneService'], hue = df['Churn'])\n",
    "for container in ax.containers:\n",
    "    ax.bar_label(container)\n",
    "plt.title(\"Gráfico 8: Relación entre 'Phone Service' y 'Churn'\")\n",
    "plt.show()"
   ]
  },
  {
   "cell_type": "code",
   "execution_count": 32,
   "id": "e3f9c76b",
   "metadata": {},
   "outputs": [
    {
     "data": {
      "text/html": [
       "<div>\n",
       "<style scoped>\n",
       "    .dataframe tbody tr th:only-of-type {\n",
       "        vertical-align: middle;\n",
       "    }\n",
       "\n",
       "    .dataframe tbody tr th {\n",
       "        vertical-align: top;\n",
       "    }\n",
       "\n",
       "    .dataframe thead th {\n",
       "        text-align: right;\n",
       "    }\n",
       "</style>\n",
       "<table border=\"1\" class=\"dataframe\">\n",
       "  <thead>\n",
       "    <tr style=\"text-align: right;\">\n",
       "      <th></th>\n",
       "      <th>mean</th>\n",
       "    </tr>\n",
       "    <tr>\n",
       "      <th>PhoneService</th>\n",
       "      <th></th>\n",
       "    </tr>\n",
       "  </thead>\n",
       "  <tbody>\n",
       "    <tr>\n",
       "      <th>No</th>\n",
       "      <td>0.249267</td>\n",
       "    </tr>\n",
       "    <tr>\n",
       "      <th>Yes</th>\n",
       "      <td>0.267096</td>\n",
       "    </tr>\n",
       "  </tbody>\n",
       "</table>\n",
       "</div>"
      ],
      "text/plain": [
       "                  mean\n",
       "PhoneService          \n",
       "No            0.249267\n",
       "Yes           0.267096"
      ]
     },
     "execution_count": 32,
     "metadata": {},
     "output_type": "execute_result"
    }
   ],
   "source": [
    "df.groupby(by='PhoneService').Churn.agg(['mean'])"
   ]
  },
  {
   "cell_type": "code",
   "execution_count": 33,
   "id": "c529e54c",
   "metadata": {},
   "outputs": [
    {
     "data": {
      "image/png": "[encoded data removed]",
      "text/plain": [
       "<Figure size 640x480 with 1 Axes>"
      ]
     },
     "metadata": {},
     "output_type": "display_data"
    }
   ],
   "source": [
    "ax = sns.countplot(x = df['MultipleLines'], hue = df['Churn'])\n",
    "for container in ax.containers:\n",
    "    ax.bar_label(container)\n",
    "plt.title(\"Gráfico 9: Relación entre 'Multiple Lines' y 'Churn'\")\n",
    "plt.show()"
   ]
  },
  {
   "cell_type": "code",
   "execution_count": 34,
   "id": "f6c4b34f",
   "metadata": {},
   "outputs": [
    {
     "data": {
      "text/html": [
       "<div>\n",
       "<style scoped>\n",
       "    .dataframe tbody tr th:only-of-type {\n",
       "        vertical-align: middle;\n",
       "    }\n",
       "\n",
       "    .dataframe tbody tr th {\n",
       "        vertical-align: top;\n",
       "    }\n",
       "\n",
       "    .dataframe thead th {\n",
       "        text-align: right;\n",
       "    }\n",
       "</style>\n",
       "<table border=\"1\" class=\"dataframe\">\n",
       "  <thead>\n",
       "    <tr style=\"text-align: right;\">\n",
       "      <th></th>\n",
       "      <th>mean</th>\n",
       "    </tr>\n",
       "    <tr>\n",
       "      <th>MultipleLines</th>\n",
       "      <th></th>\n",
       "    </tr>\n",
       "  </thead>\n",
       "  <tbody>\n",
       "    <tr>\n",
       "      <th>No</th>\n",
       "      <td>0.250442</td>\n",
       "    </tr>\n",
       "    <tr>\n",
       "      <th>No phone service</th>\n",
       "      <td>0.249267</td>\n",
       "    </tr>\n",
       "    <tr>\n",
       "      <th>Yes</th>\n",
       "      <td>0.286099</td>\n",
       "    </tr>\n",
       "  </tbody>\n",
       "</table>\n",
       "</div>"
      ],
      "text/plain": [
       "                      mean\n",
       "MultipleLines             \n",
       "No                0.250442\n",
       "No phone service  0.249267\n",
       "Yes               0.286099"
      ]
     },
     "execution_count": 34,
     "metadata": {},
     "output_type": "execute_result"
    }
   ],
   "source": [
    "df.groupby(by='MultipleLines').Churn.agg(['mean'])"
   ]
  },
  {
   "cell_type": "code",
   "execution_count": 35,
   "id": "876f88ab",
   "metadata": {},
   "outputs": [
    {
     "data": {
      "image/png": "[encoded data removed]",
      "text/plain": [
       "<Figure size 640x480 with 1 Axes>"
      ]
     },
     "metadata": {},
     "output_type": "display_data"
    }
   ],
   "source": [
    "ax = sns.countplot(x = df['InternetService'], hue = df['Churn'])\n",
    "for container in ax.containers:\n",
    "    ax.bar_label(container)\n",
    "plt.title(\"Gráfico 10: Relación entre 'Internet Service' y 'Churn'\")\n",
    "plt.show()"
   ]
  },
  {
   "cell_type": "code",
   "execution_count": 36,
   "id": "a3b60ce0",
   "metadata": {},
   "outputs": [
    {
     "data": {
      "text/html": [
       "<div>\n",
       "<style scoped>\n",
       "    .dataframe tbody tr th:only-of-type {\n",
       "        vertical-align: middle;\n",
       "    }\n",
       "\n",
       "    .dataframe tbody tr th {\n",
       "        vertical-align: top;\n",
       "    }\n",
       "\n",
       "    .dataframe thead th {\n",
       "        text-align: right;\n",
       "    }\n",
       "</style>\n",
       "<table border=\"1\" class=\"dataframe\">\n",
       "  <thead>\n",
       "    <tr style=\"text-align: right;\">\n",
       "      <th></th>\n",
       "      <th>mean</th>\n",
       "    </tr>\n",
       "    <tr>\n",
       "      <th>InternetService</th>\n",
       "      <th></th>\n",
       "    </tr>\n",
       "  </thead>\n",
       "  <tbody>\n",
       "    <tr>\n",
       "      <th>DSL</th>\n",
       "      <td>0.189591</td>\n",
       "    </tr>\n",
       "    <tr>\n",
       "      <th>Fiber optic</th>\n",
       "      <td>0.418928</td>\n",
       "    </tr>\n",
       "    <tr>\n",
       "      <th>No</th>\n",
       "      <td>0.074050</td>\n",
       "    </tr>\n",
       "  </tbody>\n",
       "</table>\n",
       "</div>"
      ],
      "text/plain": [
       "                     mean\n",
       "InternetService          \n",
       "DSL              0.189591\n",
       "Fiber optic      0.418928\n",
       "No               0.074050"
      ]
     },
     "execution_count": 36,
     "metadata": {},
     "output_type": "execute_result"
    }
   ],
   "source": [
    "df.groupby(by='InternetService').Churn.agg(['mean'])"
   ]
  },
  {
   "cell_type": "code",
   "execution_count": 37,
   "id": "ce67e0da",
   "metadata": {},
   "outputs": [
    {
     "data": {
      "image/png": "[encoded data removed]",
      "text/plain": [
       "<Figure size 640x480 with 1 Axes>"
      ]
     },
     "metadata": {},
     "output_type": "display_data"
    }
   ],
   "source": [
    "ax = sns.countplot(x = df['OnlineSecurity'], hue = df['Churn'])\n",
    "for container in ax.containers:\n",
    "    ax.bar_label(container)\n",
    "plt.title(\"Gráfico 11: Relación entre 'Online Security' y 'Churn'\")\n",
    "plt.show()"
   ]
  },
  {
   "cell_type": "code",
   "execution_count": 38,
   "id": "3f57bc3e",
   "metadata": {},
   "outputs": [
    {
     "data": {
      "text/html": [
       "<div>\n",
       "<style scoped>\n",
       "    .dataframe tbody tr th:only-of-type {\n",
       "        vertical-align: middle;\n",
       "    }\n",
       "\n",
       "    .dataframe tbody tr th {\n",
       "        vertical-align: top;\n",
       "    }\n",
       "\n",
       "    .dataframe thead th {\n",
       "        text-align: right;\n",
       "    }\n",
       "</style>\n",
       "<table border=\"1\" class=\"dataframe\">\n",
       "  <thead>\n",
       "    <tr style=\"text-align: right;\">\n",
       "      <th></th>\n",
       "      <th>mean</th>\n",
       "    </tr>\n",
       "    <tr>\n",
       "      <th>OnlineSecurity</th>\n",
       "      <th></th>\n",
       "    </tr>\n",
       "  </thead>\n",
       "  <tbody>\n",
       "    <tr>\n",
       "      <th>No</th>\n",
       "      <td>0.417667</td>\n",
       "    </tr>\n",
       "    <tr>\n",
       "      <th>No internet service</th>\n",
       "      <td>0.074050</td>\n",
       "    </tr>\n",
       "    <tr>\n",
       "      <th>Yes</th>\n",
       "      <td>0.146112</td>\n",
       "    </tr>\n",
       "  </tbody>\n",
       "</table>\n",
       "</div>"
      ],
      "text/plain": [
       "                         mean\n",
       "OnlineSecurity               \n",
       "No                   0.417667\n",
       "No internet service  0.074050\n",
       "Yes                  0.146112"
      ]
     },
     "execution_count": 38,
     "metadata": {},
     "output_type": "execute_result"
    }
   ],
   "source": [
    "df.groupby(by='OnlineSecurity').Churn.agg(['mean'])"
   ]
  },
  {
   "cell_type": "code",
   "execution_count": 39,
   "id": "bee81d13",
   "metadata": {},
   "outputs": [
    {
     "data": {
      "image/png": "[encoded data removed]",
      "text/plain": [
       "<Figure size 640x480 with 1 Axes>"
      ]
     },
     "metadata": {},
     "output_type": "display_data"
    }
   ],
   "source": [
    "ax = sns.countplot(x = df['OnlineBackup'], hue = df['Churn'])\n",
    "for container in ax.containers:\n",
    "    ax.bar_label(container)\n",
    "plt.title(\"Gráfico 12: Relación entre 'Online Backup' y 'Churn'\")\n",
    "plt.show()"
   ]
  },
  {
   "cell_type": "code",
   "execution_count": 40,
   "id": "fc655674",
   "metadata": {},
   "outputs": [
    {
     "data": {
      "text/html": [
       "<div>\n",
       "<style scoped>\n",
       "    .dataframe tbody tr th:only-of-type {\n",
       "        vertical-align: middle;\n",
       "    }\n",
       "\n",
       "    .dataframe tbody tr th {\n",
       "        vertical-align: top;\n",
       "    }\n",
       "\n",
       "    .dataframe thead th {\n",
       "        text-align: right;\n",
       "    }\n",
       "</style>\n",
       "<table border=\"1\" class=\"dataframe\">\n",
       "  <thead>\n",
       "    <tr style=\"text-align: right;\">\n",
       "      <th></th>\n",
       "      <th>mean</th>\n",
       "    </tr>\n",
       "    <tr>\n",
       "      <th>OnlineBackup</th>\n",
       "      <th></th>\n",
       "    </tr>\n",
       "  </thead>\n",
       "  <tbody>\n",
       "    <tr>\n",
       "      <th>No</th>\n",
       "      <td>0.399288</td>\n",
       "    </tr>\n",
       "    <tr>\n",
       "      <th>No internet service</th>\n",
       "      <td>0.074050</td>\n",
       "    </tr>\n",
       "    <tr>\n",
       "      <th>Yes</th>\n",
       "      <td>0.215315</td>\n",
       "    </tr>\n",
       "  </tbody>\n",
       "</table>\n",
       "</div>"
      ],
      "text/plain": [
       "                         mean\n",
       "OnlineBackup                 \n",
       "No                   0.399288\n",
       "No internet service  0.074050\n",
       "Yes                  0.215315"
      ]
     },
     "execution_count": 40,
     "metadata": {},
     "output_type": "execute_result"
    }
   ],
   "source": [
    "df.groupby(by='OnlineBackup').Churn.agg(['mean'])"
   ]
  },
  {
   "cell_type": "code",
   "execution_count": 41,
   "id": "00578452",
   "metadata": {},
   "outputs": [
    {
     "data": {
      "image/png": "[encoded data removed]",
      "text/plain": [
       "<Figure size 640x480 with 1 Axes>"
      ]
     },
     "metadata": {},
     "output_type": "display_data"
    }
   ],
   "source": [
    "ax = sns.countplot(x = df['DeviceProtection'], hue = df['Churn'])\n",
    "for container in ax.containers:\n",
    "    ax.bar_label(container)\n",
    "plt.title(\"Gráfico 13: Relación entre 'Device Protection' y 'Churn'\")\n",
    "plt.show()"
   ]
  },
  {
   "cell_type": "code",
   "execution_count": 42,
   "id": "05428886",
   "metadata": {},
   "outputs": [
    {
     "data": {
      "text/html": [
       "<div>\n",
       "<style scoped>\n",
       "    .dataframe tbody tr th:only-of-type {\n",
       "        vertical-align: middle;\n",
       "    }\n",
       "\n",
       "    .dataframe tbody tr th {\n",
       "        vertical-align: top;\n",
       "    }\n",
       "\n",
       "    .dataframe thead th {\n",
       "        text-align: right;\n",
       "    }\n",
       "</style>\n",
       "<table border=\"1\" class=\"dataframe\">\n",
       "  <thead>\n",
       "    <tr style=\"text-align: right;\">\n",
       "      <th></th>\n",
       "      <th>mean</th>\n",
       "    </tr>\n",
       "    <tr>\n",
       "      <th>DeviceProtection</th>\n",
       "      <th></th>\n",
       "    </tr>\n",
       "  </thead>\n",
       "  <tbody>\n",
       "    <tr>\n",
       "      <th>No</th>\n",
       "      <td>0.391276</td>\n",
       "    </tr>\n",
       "    <tr>\n",
       "      <th>No internet service</th>\n",
       "      <td>0.074050</td>\n",
       "    </tr>\n",
       "    <tr>\n",
       "      <th>Yes</th>\n",
       "      <td>0.225021</td>\n",
       "    </tr>\n",
       "  </tbody>\n",
       "</table>\n",
       "</div>"
      ],
      "text/plain": [
       "                         mean\n",
       "DeviceProtection             \n",
       "No                   0.391276\n",
       "No internet service  0.074050\n",
       "Yes                  0.225021"
      ]
     },
     "execution_count": 42,
     "metadata": {},
     "output_type": "execute_result"
    }
   ],
   "source": [
    "df.groupby(by='DeviceProtection').Churn.agg(['mean'])"
   ]
  },
  {
   "cell_type": "code",
   "execution_count": 43,
   "id": "dc6201f9",
   "metadata": {},
   "outputs": [
    {
     "data": {
      "image/png": "[encoded data removed]",
      "text/plain": [
       "<Figure size 640x480 with 1 Axes>"
      ]
     },
     "metadata": {},
     "output_type": "display_data"
    }
   ],
   "source": [
    "ax = sns.countplot(x = df['TechSupport'], hue = df['Churn'])\n",
    "for container in ax.containers:\n",
    "    ax.bar_label(container)\n",
    "plt.title(\"Gráfico 14: Relación entre 'Tech Support' y 'Churn'\")\n",
    "plt.show()"
   ]
  },
  {
   "cell_type": "code",
   "execution_count": 44,
   "id": "dde19fcd",
   "metadata": {},
   "outputs": [
    {
     "data": {
      "text/html": [
       "<div>\n",
       "<style scoped>\n",
       "    .dataframe tbody tr th:only-of-type {\n",
       "        vertical-align: middle;\n",
       "    }\n",
       "\n",
       "    .dataframe tbody tr th {\n",
       "        vertical-align: top;\n",
       "    }\n",
       "\n",
       "    .dataframe thead th {\n",
       "        text-align: right;\n",
       "    }\n",
       "</style>\n",
       "<table border=\"1\" class=\"dataframe\">\n",
       "  <thead>\n",
       "    <tr style=\"text-align: right;\">\n",
       "      <th></th>\n",
       "      <th>mean</th>\n",
       "    </tr>\n",
       "    <tr>\n",
       "      <th>TechSupport</th>\n",
       "      <th></th>\n",
       "    </tr>\n",
       "  </thead>\n",
       "  <tbody>\n",
       "    <tr>\n",
       "      <th>No</th>\n",
       "      <td>0.416355</td>\n",
       "    </tr>\n",
       "    <tr>\n",
       "      <th>No internet service</th>\n",
       "      <td>0.074050</td>\n",
       "    </tr>\n",
       "    <tr>\n",
       "      <th>Yes</th>\n",
       "      <td>0.151663</td>\n",
       "    </tr>\n",
       "  </tbody>\n",
       "</table>\n",
       "</div>"
      ],
      "text/plain": [
       "                         mean\n",
       "TechSupport                  \n",
       "No                   0.416355\n",
       "No internet service  0.074050\n",
       "Yes                  0.151663"
      ]
     },
     "execution_count": 44,
     "metadata": {},
     "output_type": "execute_result"
    }
   ],
   "source": [
    "df.groupby(by='TechSupport').Churn.agg(['mean'])"
   ]
  },
  {
   "cell_type": "code",
   "execution_count": 45,
   "id": "d75613c8",
   "metadata": {},
   "outputs": [
    {
     "data": {
      "image/png": "[encoded data removed]",
      "text/plain": [
       "<Figure size 640x480 with 1 Axes>"
      ]
     },
     "metadata": {},
     "output_type": "display_data"
    }
   ],
   "source": [
    "ax = sns.countplot(x = df['StreamingTV'], hue = df['Churn'])\n",
    "for container in ax.containers:\n",
    "    ax.bar_label(container)\n",
    "plt.title(\"Gráfico 15: Relación entre 'Streaming TV' y 'Churn'\")\n",
    "plt.show()"
   ]
  },
  {
   "cell_type": "code",
   "execution_count": 46,
   "id": "07e7369a",
   "metadata": {},
   "outputs": [
    {
     "data": {
      "text/html": [
       "<div>\n",
       "<style scoped>\n",
       "    .dataframe tbody tr th:only-of-type {\n",
       "        vertical-align: middle;\n",
       "    }\n",
       "\n",
       "    .dataframe tbody tr th {\n",
       "        vertical-align: top;\n",
       "    }\n",
       "\n",
       "    .dataframe thead th {\n",
       "        text-align: right;\n",
       "    }\n",
       "</style>\n",
       "<table border=\"1\" class=\"dataframe\">\n",
       "  <thead>\n",
       "    <tr style=\"text-align: right;\">\n",
       "      <th></th>\n",
       "      <th>mean</th>\n",
       "    </tr>\n",
       "    <tr>\n",
       "      <th>StreamingTV</th>\n",
       "      <th></th>\n",
       "    </tr>\n",
       "  </thead>\n",
       "  <tbody>\n",
       "    <tr>\n",
       "      <th>No</th>\n",
       "      <td>0.335231</td>\n",
       "    </tr>\n",
       "    <tr>\n",
       "      <th>No internet service</th>\n",
       "      <td>0.074050</td>\n",
       "    </tr>\n",
       "    <tr>\n",
       "      <th>Yes</th>\n",
       "      <td>0.300702</td>\n",
       "    </tr>\n",
       "  </tbody>\n",
       "</table>\n",
       "</div>"
      ],
      "text/plain": [
       "                         mean\n",
       "StreamingTV                  \n",
       "No                   0.335231\n",
       "No internet service  0.074050\n",
       "Yes                  0.300702"
      ]
     },
     "execution_count": 46,
     "metadata": {},
     "output_type": "execute_result"
    }
   ],
   "source": [
    "df.groupby(by='StreamingTV').Churn.agg(['mean'])"
   ]
  },
  {
   "cell_type": "code",
   "execution_count": 47,
   "id": "10b3ff0e",
   "metadata": {},
   "outputs": [
    {
     "data": {
      "image/png": "[encoded data removed]",
      "text/plain": [
       "<Figure size 640x480 with 1 Axes>"
      ]
     },
     "metadata": {},
     "output_type": "display_data"
    }
   ],
   "source": [
    "ax = sns.countplot(x = df['StreamingMovies'], hue = df['Churn'])\n",
    "for container in ax.containers:\n",
    "    ax.bar_label(container)\n",
    "plt.title(\"Gráfico 16: Relación entre 'Streaming Movies' y 'Churn'\")\n",
    "plt.show()"
   ]
  },
  {
   "cell_type": "code",
   "execution_count": 48,
   "id": "a8d5d8ae",
   "metadata": {},
   "outputs": [
    {
     "data": {
      "text/html": [
       "<div>\n",
       "<style scoped>\n",
       "    .dataframe tbody tr th:only-of-type {\n",
       "        vertical-align: middle;\n",
       "    }\n",
       "\n",
       "    .dataframe tbody tr th {\n",
       "        vertical-align: top;\n",
       "    }\n",
       "\n",
       "    .dataframe thead th {\n",
       "        text-align: right;\n",
       "    }\n",
       "</style>\n",
       "<table border=\"1\" class=\"dataframe\">\n",
       "  <thead>\n",
       "    <tr style=\"text-align: right;\">\n",
       "      <th></th>\n",
       "      <th>mean</th>\n",
       "    </tr>\n",
       "    <tr>\n",
       "      <th>StreamingMovies</th>\n",
       "      <th></th>\n",
       "    </tr>\n",
       "  </thead>\n",
       "  <tbody>\n",
       "    <tr>\n",
       "      <th>No</th>\n",
       "      <td>0.336804</td>\n",
       "    </tr>\n",
       "    <tr>\n",
       "      <th>No internet service</th>\n",
       "      <td>0.074050</td>\n",
       "    </tr>\n",
       "    <tr>\n",
       "      <th>Yes</th>\n",
       "      <td>0.299414</td>\n",
       "    </tr>\n",
       "  </tbody>\n",
       "</table>\n",
       "</div>"
      ],
      "text/plain": [
       "                         mean\n",
       "StreamingMovies              \n",
       "No                   0.336804\n",
       "No internet service  0.074050\n",
       "Yes                  0.299414"
      ]
     },
     "execution_count": 48,
     "metadata": {},
     "output_type": "execute_result"
    }
   ],
   "source": [
    "df.groupby(by='StreamingMovies').Churn.agg(['mean'])"
   ]
  },
  {
   "cell_type": "code",
   "execution_count": 49,
   "id": "9642cde7",
   "metadata": {},
   "outputs": [
    {
     "data": {
      "image/png": "[encoded data removed]",
      "text/plain": [
       "<Figure size 640x480 with 1 Axes>"
      ]
     },
     "metadata": {},
     "output_type": "display_data"
    }
   ],
   "source": [
    "ax = sns.countplot(x = df['Contract'], hue = df['Churn'])\n",
    "for container in ax.containers:\n",
    "    ax.bar_label(container)\n",
    "plt.title(\"Gráfico 17: Relación entre 'Contract' y 'Churn'\")\n",
    "plt.show()"
   ]
  },
  {
   "cell_type": "code",
   "execution_count": 50,
   "id": "d3062791",
   "metadata": {},
   "outputs": [
    {
     "data": {
      "text/html": [
       "<div>\n",
       "<style scoped>\n",
       "    .dataframe tbody tr th:only-of-type {\n",
       "        vertical-align: middle;\n",
       "    }\n",
       "\n",
       "    .dataframe tbody tr th {\n",
       "        vertical-align: top;\n",
       "    }\n",
       "\n",
       "    .dataframe thead th {\n",
       "        text-align: right;\n",
       "    }\n",
       "</style>\n",
       "<table border=\"1\" class=\"dataframe\">\n",
       "  <thead>\n",
       "    <tr style=\"text-align: right;\">\n",
       "      <th></th>\n",
       "      <th>mean</th>\n",
       "    </tr>\n",
       "    <tr>\n",
       "      <th>Contract</th>\n",
       "      <th></th>\n",
       "    </tr>\n",
       "  </thead>\n",
       "  <tbody>\n",
       "    <tr>\n",
       "      <th>Month-to-month</th>\n",
       "      <td>0.427097</td>\n",
       "    </tr>\n",
       "    <tr>\n",
       "      <th>One year</th>\n",
       "      <td>0.112695</td>\n",
       "    </tr>\n",
       "    <tr>\n",
       "      <th>Two year</th>\n",
       "      <td>0.028319</td>\n",
       "    </tr>\n",
       "  </tbody>\n",
       "</table>\n",
       "</div>"
      ],
      "text/plain": [
       "                    mean\n",
       "Contract                \n",
       "Month-to-month  0.427097\n",
       "One year        0.112695\n",
       "Two year        0.028319"
      ]
     },
     "execution_count": 50,
     "metadata": {},
     "output_type": "execute_result"
    }
   ],
   "source": [
    "df.groupby(by='Contract').Churn.agg(['mean'])"
   ]
  },
  {
   "cell_type": "code",
   "execution_count": 51,
   "id": "db2df641",
   "metadata": {},
   "outputs": [
    {
     "data": {
      "image/png": "[encoded data removed]",
      "text/plain": [
       "<Figure size 640x480 with 1 Axes>"
      ]
     },
     "metadata": {},
     "output_type": "display_data"
    }
   ],
   "source": [
    "ax = sns.countplot(x = df['PaperlessBilling'], hue = df['Churn'])\n",
    "for container in ax.containers:\n",
    "    ax.bar_label(container)\n",
    "plt.title(\"Gráfico 18: Relación entre 'PaperlessBilling' y 'Churn'\")\n",
    "plt.show()"
   ]
  },
  {
   "cell_type": "code",
   "execution_count": 52,
   "id": "69ef1b29",
   "metadata": {},
   "outputs": [
    {
     "data": {
      "text/html": [
       "<div>\n",
       "<style scoped>\n",
       "    .dataframe tbody tr th:only-of-type {\n",
       "        vertical-align: middle;\n",
       "    }\n",
       "\n",
       "    .dataframe tbody tr th {\n",
       "        vertical-align: top;\n",
       "    }\n",
       "\n",
       "    .dataframe thead th {\n",
       "        text-align: right;\n",
       "    }\n",
       "</style>\n",
       "<table border=\"1\" class=\"dataframe\">\n",
       "  <thead>\n",
       "    <tr style=\"text-align: right;\">\n",
       "      <th></th>\n",
       "      <th>mean</th>\n",
       "    </tr>\n",
       "    <tr>\n",
       "      <th>PaperlessBilling</th>\n",
       "      <th></th>\n",
       "    </tr>\n",
       "  </thead>\n",
       "  <tbody>\n",
       "    <tr>\n",
       "      <th>No</th>\n",
       "      <td>0.163301</td>\n",
       "    </tr>\n",
       "    <tr>\n",
       "      <th>Yes</th>\n",
       "      <td>0.335651</td>\n",
       "    </tr>\n",
       "  </tbody>\n",
       "</table>\n",
       "</div>"
      ],
      "text/plain": [
       "                      mean\n",
       "PaperlessBilling          \n",
       "No                0.163301\n",
       "Yes               0.335651"
      ]
     },
     "execution_count": 52,
     "metadata": {},
     "output_type": "execute_result"
    }
   ],
   "source": [
    "df.groupby(by='PaperlessBilling').Churn.agg(['mean'])"
   ]
  },
  {
   "cell_type": "code",
   "execution_count": 53,
   "id": "5bfd23a5",
   "metadata": {},
   "outputs": [
    {
     "data": {
      "image/png": "[encoded data removed]",
      "text/plain": [
       "<Figure size 640x480 with 1 Axes>"
      ]
     },
     "metadata": {},
     "output_type": "display_data"
    }
   ],
   "source": [
    "ax = sns.countplot(x = df['PaymentMethod'], hue = df['Churn'])\n",
    "plt.xticks(rotation=30)\n",
    "for container in ax.containers:\n",
    "    ax.bar_label(container)\n",
    "plt.title(\"Gráfico 19: Relación entre 'Payment Method' y 'Churn'\")\n",
    "plt.show()"
   ]
  },
  {
   "cell_type": "code",
   "execution_count": 54,
   "id": "bef45655",
   "metadata": {},
   "outputs": [
    {
     "data": {
      "text/html": [
       "<div>\n",
       "<style scoped>\n",
       "    .dataframe tbody tr th:only-of-type {\n",
       "        vertical-align: middle;\n",
       "    }\n",
       "\n",
       "    .dataframe tbody tr th {\n",
       "        vertical-align: top;\n",
       "    }\n",
       "\n",
       "    .dataframe thead th {\n",
       "        text-align: right;\n",
       "    }\n",
       "</style>\n",
       "<table border=\"1\" class=\"dataframe\">\n",
       "  <thead>\n",
       "    <tr style=\"text-align: right;\">\n",
       "      <th></th>\n",
       "      <th>mean</th>\n",
       "    </tr>\n",
       "    <tr>\n",
       "      <th>PaymentMethod</th>\n",
       "      <th></th>\n",
       "    </tr>\n",
       "  </thead>\n",
       "  <tbody>\n",
       "    <tr>\n",
       "      <th>Bank transfer (automatic)</th>\n",
       "      <td>0.167098</td>\n",
       "    </tr>\n",
       "    <tr>\n",
       "      <th>Credit card (automatic)</th>\n",
       "      <td>0.152431</td>\n",
       "    </tr>\n",
       "    <tr>\n",
       "      <th>Electronic check</th>\n",
       "      <td>0.452854</td>\n",
       "    </tr>\n",
       "    <tr>\n",
       "      <th>Mailed check</th>\n",
       "      <td>0.191067</td>\n",
       "    </tr>\n",
       "  </tbody>\n",
       "</table>\n",
       "</div>"
      ],
      "text/plain": [
       "                               mean\n",
       "PaymentMethod                      \n",
       "Bank transfer (automatic)  0.167098\n",
       "Credit card (automatic)    0.152431\n",
       "Electronic check           0.452854\n",
       "Mailed check               0.191067"
      ]
     },
     "execution_count": 54,
     "metadata": {},
     "output_type": "execute_result"
    }
   ],
   "source": [
    "df.groupby(by='PaymentMethod').Churn.agg(['mean'])"
   ]
  },
  {
   "cell_type": "markdown",
   "id": "692f4172",
   "metadata": {},
   "source": [
    "Para las variables cualitativas se han realizado diagramas de frecuencias en función de la tasa de abandono (Churn), dentro de estas, los subgrupos pueden evidenciar diferentes comportamientos. Además, se ha calculado una media para cada variable donde, si el valor se asemeja a la media global, ≈0.265, representa que esta variable no tiene mucho impacto en el resultado final de la tasa de abandono para cliente. Partiendo de esto, se obtiene lo siguiente:\n",
    "<ul>\n",
    "    <li>Las personas no jubiladas tienen más probabilidad de abandono que las que sí están jubiladas.\n",
    "</li>\n",
    "    <li>La variable \"género\" parece no tener impacto sobre la tasa de abandono.\n",
    "</li>\n",
    "    <li>Tener pareja parece reducir la tasa de abandono.\n",
    "</li>\n",
    "    <li>La existencia de dependientes reduce significativamente la tasa de abandono.</li>\n",
    "    <li>Las personas que poseen servicio telefónico tienen una mayor posibilidad de abandonar.</li>\n",
    "    <li>Al igual que el género, la existencia de múltiples líneas no genera un impacto en las tasas de abandono.</li>\n",
    "    <li>En cuanto a los servicios de internet, quienes poseen fibra óptica tienen una alta tendencia a abandonar.</li>\n",
    "    <li>Los clientes que no cuentan con servicios adicionales, como seguridad en línea, respaldo en línea, soporte técnico, protección de dispositivos, transmisión de TV o transmisión de películas, tienen más probabilidades de abandonar el servicio que los demás.</li>\n",
    "    <li>Con respecto al tipo de contrato, quienes poseen un contrato de mes a mes presentan una tendencia alta al abandono.</li>\n",
    "    <li>Los clientes con facturación electrónica (PaperlessBilling) parecen abandonar más que los otros.</li>\n",
    "    <li>De los métodos de pago, el método de cheque electrónico tiene la tasa de abandono más alta.</li>\n",
    "</ul>\n"
   ]
  },
  {
   "cell_type": "markdown",
   "id": "85ba472e",
   "metadata": {},
   "source": [
    "La media de esta variable es de 0.27, es decir, los datos no se encuentran balanceados, evidenciando que existen una mayoría de casos donde el abandono es de \"0\", correspondiente a \"No\". Partiendo de lo anterior, la tasa de abandono es del 27%."
   ]
  },
  {
   "cell_type": "markdown",
   "id": "856bfacd",
   "metadata": {},
   "source": [
    "## Tasa de riesgo"
   ]
  },
  {
   "cell_type": "markdown",
   "id": "66b6fa09",
   "metadata": {},
   "source": [
    "La tasa de riesgo es la relación entre probabilidades en diferentes grupos. Ese riesgo equivale a la posibilidad de que ocurra un efecto, en este caso, la tasa de abandono. Si la diferencia entre la tasa grupal y la tasa global es pequeña, el riesgo será cercano a 1. Por lo tanto, en este caso, es tan probable que los clientes del grupo abandonen como cualquier otra persona. Si el riesgo es inferior a 1, el grupo tiene menores riesgos. Por el contrario, si el valor es superior a 1, hay más abandono en el grupo que en la población."
   ]
  },
  {
   "cell_type": "code",
   "execution_count": 55,
   "id": "691f1382",
   "metadata": {
    "scrolled": false
   },
   "outputs": [
    {
     "data": {
      "text/html": [
       "<div>\n",
       "<style scoped>\n",
       "    .dataframe tbody tr th:only-of-type {\n",
       "        vertical-align: middle;\n",
       "    }\n",
       "\n",
       "    .dataframe tbody tr th {\n",
       "        vertical-align: top;\n",
       "    }\n",
       "\n",
       "    .dataframe thead th {\n",
       "        text-align: right;\n",
       "    }\n",
       "</style>\n",
       "<table border=\"1\" class=\"dataframe\">\n",
       "  <thead>\n",
       "    <tr style=\"text-align: right;\">\n",
       "      <th></th>\n",
       "      <th>Media</th>\n",
       "      <th>Diferencia</th>\n",
       "      <th>Tasa</th>\n",
       "    </tr>\n",
       "    <tr>\n",
       "      <th>gender</th>\n",
       "      <th></th>\n",
       "      <th></th>\n",
       "      <th></th>\n",
       "    </tr>\n",
       "  </thead>\n",
       "  <tbody>\n",
       "    <tr>\n",
       "      <th>Female</th>\n",
       "      <td>0.269209</td>\n",
       "      <td>0.003839</td>\n",
       "      <td>1.014466</td>\n",
       "    </tr>\n",
       "    <tr>\n",
       "      <th>Male</th>\n",
       "      <td>0.261603</td>\n",
       "      <td>-0.003766</td>\n",
       "      <td>0.985807</td>\n",
       "    </tr>\n",
       "  </tbody>\n",
       "</table>\n",
       "</div>"
      ],
      "text/plain": [
       "           Media  Diferencia      Tasa\n",
       "gender                                \n",
       "Female  0.269209    0.003839  1.014466\n",
       "Male    0.261603   -0.003766  0.985807"
      ]
     },
     "metadata": {},
     "output_type": "display_data"
    },
    {
     "data": {
      "text/html": [
       "<div>\n",
       "<style scoped>\n",
       "    .dataframe tbody tr th:only-of-type {\n",
       "        vertical-align: middle;\n",
       "    }\n",
       "\n",
       "    .dataframe tbody tr th {\n",
       "        vertical-align: top;\n",
       "    }\n",
       "\n",
       "    .dataframe thead th {\n",
       "        text-align: right;\n",
       "    }\n",
       "</style>\n",
       "<table border=\"1\" class=\"dataframe\">\n",
       "  <thead>\n",
       "    <tr style=\"text-align: right;\">\n",
       "      <th></th>\n",
       "      <th>Media</th>\n",
       "      <th>Diferencia</th>\n",
       "      <th>Tasa</th>\n",
       "    </tr>\n",
       "    <tr>\n",
       "      <th>SeniorCitizen</th>\n",
       "      <th></th>\n",
       "      <th></th>\n",
       "      <th></th>\n",
       "    </tr>\n",
       "  </thead>\n",
       "  <tbody>\n",
       "    <tr>\n",
       "      <th>0</th>\n",
       "      <td>0.236062</td>\n",
       "      <td>-0.029308</td>\n",
       "      <td>0.889557</td>\n",
       "    </tr>\n",
       "    <tr>\n",
       "      <th>1</th>\n",
       "      <td>0.416813</td>\n",
       "      <td>0.151443</td>\n",
       "      <td>1.570686</td>\n",
       "    </tr>\n",
       "  </tbody>\n",
       "</table>\n",
       "</div>"
      ],
      "text/plain": [
       "                  Media  Diferencia      Tasa\n",
       "SeniorCitizen                                \n",
       "0              0.236062   -0.029308  0.889557\n",
       "1              0.416813    0.151443  1.570686"
      ]
     },
     "metadata": {},
     "output_type": "display_data"
    },
    {
     "data": {
      "text/html": [
       "<div>\n",
       "<style scoped>\n",
       "    .dataframe tbody tr th:only-of-type {\n",
       "        vertical-align: middle;\n",
       "    }\n",
       "\n",
       "    .dataframe tbody tr th {\n",
       "        vertical-align: top;\n",
       "    }\n",
       "\n",
       "    .dataframe thead th {\n",
       "        text-align: right;\n",
       "    }\n",
       "</style>\n",
       "<table border=\"1\" class=\"dataframe\">\n",
       "  <thead>\n",
       "    <tr style=\"text-align: right;\">\n",
       "      <th></th>\n",
       "      <th>Media</th>\n",
       "      <th>Diferencia</th>\n",
       "      <th>Tasa</th>\n",
       "    </tr>\n",
       "    <tr>\n",
       "      <th>Partner</th>\n",
       "      <th></th>\n",
       "      <th></th>\n",
       "      <th></th>\n",
       "    </tr>\n",
       "  </thead>\n",
       "  <tbody>\n",
       "    <tr>\n",
       "      <th>No</th>\n",
       "      <td>0.329580</td>\n",
       "      <td>0.064210</td>\n",
       "      <td>1.241964</td>\n",
       "    </tr>\n",
       "    <tr>\n",
       "      <th>Yes</th>\n",
       "      <td>0.196649</td>\n",
       "      <td>-0.068721</td>\n",
       "      <td>0.741038</td>\n",
       "    </tr>\n",
       "  </tbody>\n",
       "</table>\n",
       "</div>"
      ],
      "text/plain": [
       "            Media  Diferencia      Tasa\n",
       "Partner                                \n",
       "No       0.329580    0.064210  1.241964\n",
       "Yes      0.196649   -0.068721  0.741038"
      ]
     },
     "metadata": {},
     "output_type": "display_data"
    },
    {
     "data": {
      "text/html": [
       "<div>\n",
       "<style scoped>\n",
       "    .dataframe tbody tr th:only-of-type {\n",
       "        vertical-align: middle;\n",
       "    }\n",
       "\n",
       "    .dataframe tbody tr th {\n",
       "        vertical-align: top;\n",
       "    }\n",
       "\n",
       "    .dataframe thead th {\n",
       "        text-align: right;\n",
       "    }\n",
       "</style>\n",
       "<table border=\"1\" class=\"dataframe\">\n",
       "  <thead>\n",
       "    <tr style=\"text-align: right;\">\n",
       "      <th></th>\n",
       "      <th>Media</th>\n",
       "      <th>Diferencia</th>\n",
       "      <th>Tasa</th>\n",
       "    </tr>\n",
       "    <tr>\n",
       "      <th>Dependents</th>\n",
       "      <th></th>\n",
       "      <th></th>\n",
       "      <th></th>\n",
       "    </tr>\n",
       "  </thead>\n",
       "  <tbody>\n",
       "    <tr>\n",
       "      <th>No</th>\n",
       "      <td>0.312791</td>\n",
       "      <td>0.047422</td>\n",
       "      <td>1.178700</td>\n",
       "    </tr>\n",
       "    <tr>\n",
       "      <th>Yes</th>\n",
       "      <td>0.154502</td>\n",
       "      <td>-0.110868</td>\n",
       "      <td>0.582215</td>\n",
       "    </tr>\n",
       "  </tbody>\n",
       "</table>\n",
       "</div>"
      ],
      "text/plain": [
       "               Media  Diferencia      Tasa\n",
       "Dependents                                \n",
       "No          0.312791    0.047422  1.178700\n",
       "Yes         0.154502   -0.110868  0.582215"
      ]
     },
     "metadata": {},
     "output_type": "display_data"
    },
    {
     "data": {
      "text/html": [
       "<div>\n",
       "<style scoped>\n",
       "    .dataframe tbody tr th:only-of-type {\n",
       "        vertical-align: middle;\n",
       "    }\n",
       "\n",
       "    .dataframe tbody tr th {\n",
       "        vertical-align: top;\n",
       "    }\n",
       "\n",
       "    .dataframe thead th {\n",
       "        text-align: right;\n",
       "    }\n",
       "</style>\n",
       "<table border=\"1\" class=\"dataframe\">\n",
       "  <thead>\n",
       "    <tr style=\"text-align: right;\">\n",
       "      <th></th>\n",
       "      <th>Media</th>\n",
       "      <th>Diferencia</th>\n",
       "      <th>Tasa</th>\n",
       "    </tr>\n",
       "    <tr>\n",
       "      <th>PhoneService</th>\n",
       "      <th></th>\n",
       "      <th></th>\n",
       "      <th></th>\n",
       "    </tr>\n",
       "  </thead>\n",
       "  <tbody>\n",
       "    <tr>\n",
       "      <th>No</th>\n",
       "      <td>0.249267</td>\n",
       "      <td>-0.016103</td>\n",
       "      <td>0.939319</td>\n",
       "    </tr>\n",
       "    <tr>\n",
       "      <th>Yes</th>\n",
       "      <td>0.267096</td>\n",
       "      <td>0.001726</td>\n",
       "      <td>1.006506</td>\n",
       "    </tr>\n",
       "  </tbody>\n",
       "</table>\n",
       "</div>"
      ],
      "text/plain": [
       "                 Media  Diferencia      Tasa\n",
       "PhoneService                                \n",
       "No            0.249267   -0.016103  0.939319\n",
       "Yes           0.267096    0.001726  1.006506"
      ]
     },
     "metadata": {},
     "output_type": "display_data"
    },
    {
     "data": {
      "text/html": [
       "<div>\n",
       "<style scoped>\n",
       "    .dataframe tbody tr th:only-of-type {\n",
       "        vertical-align: middle;\n",
       "    }\n",
       "\n",
       "    .dataframe tbody tr th {\n",
       "        vertical-align: top;\n",
       "    }\n",
       "\n",
       "    .dataframe thead th {\n",
       "        text-align: right;\n",
       "    }\n",
       "</style>\n",
       "<table border=\"1\" class=\"dataframe\">\n",
       "  <thead>\n",
       "    <tr style=\"text-align: right;\">\n",
       "      <th></th>\n",
       "      <th>Media</th>\n",
       "      <th>Diferencia</th>\n",
       "      <th>Tasa</th>\n",
       "    </tr>\n",
       "    <tr>\n",
       "      <th>MultipleLines</th>\n",
       "      <th></th>\n",
       "      <th></th>\n",
       "      <th></th>\n",
       "    </tr>\n",
       "  </thead>\n",
       "  <tbody>\n",
       "    <tr>\n",
       "      <th>No</th>\n",
       "      <td>0.250442</td>\n",
       "      <td>-0.014927</td>\n",
       "      <td>0.943749</td>\n",
       "    </tr>\n",
       "    <tr>\n",
       "      <th>No phone service</th>\n",
       "      <td>0.249267</td>\n",
       "      <td>-0.016103</td>\n",
       "      <td>0.939319</td>\n",
       "    </tr>\n",
       "    <tr>\n",
       "      <th>Yes</th>\n",
       "      <td>0.286099</td>\n",
       "      <td>0.020729</td>\n",
       "      <td>1.078114</td>\n",
       "    </tr>\n",
       "  </tbody>\n",
       "</table>\n",
       "</div>"
      ],
      "text/plain": [
       "                     Media  Diferencia      Tasa\n",
       "MultipleLines                                   \n",
       "No                0.250442   -0.014927  0.943749\n",
       "No phone service  0.249267   -0.016103  0.939319\n",
       "Yes               0.286099    0.020729  1.078114"
      ]
     },
     "metadata": {},
     "output_type": "display_data"
    },
    {
     "data": {
      "text/html": [
       "<div>\n",
       "<style scoped>\n",
       "    .dataframe tbody tr th:only-of-type {\n",
       "        vertical-align: middle;\n",
       "    }\n",
       "\n",
       "    .dataframe tbody tr th {\n",
       "        vertical-align: top;\n",
       "    }\n",
       "\n",
       "    .dataframe thead th {\n",
       "        text-align: right;\n",
       "    }\n",
       "</style>\n",
       "<table border=\"1\" class=\"dataframe\">\n",
       "  <thead>\n",
       "    <tr style=\"text-align: right;\">\n",
       "      <th></th>\n",
       "      <th>Media</th>\n",
       "      <th>Diferencia</th>\n",
       "      <th>Tasa</th>\n",
       "    </tr>\n",
       "    <tr>\n",
       "      <th>InternetService</th>\n",
       "      <th></th>\n",
       "      <th></th>\n",
       "      <th></th>\n",
       "    </tr>\n",
       "  </thead>\n",
       "  <tbody>\n",
       "    <tr>\n",
       "      <th>DSL</th>\n",
       "      <td>0.189591</td>\n",
       "      <td>-0.075779</td>\n",
       "      <td>0.714441</td>\n",
       "    </tr>\n",
       "    <tr>\n",
       "      <th>Fiber optic</th>\n",
       "      <td>0.418928</td>\n",
       "      <td>0.153558</td>\n",
       "      <td>1.578656</td>\n",
       "    </tr>\n",
       "    <tr>\n",
       "      <th>No</th>\n",
       "      <td>0.074050</td>\n",
       "      <td>-0.191320</td>\n",
       "      <td>0.279044</td>\n",
       "    </tr>\n",
       "  </tbody>\n",
       "</table>\n",
       "</div>"
      ],
      "text/plain": [
       "                    Media  Diferencia      Tasa\n",
       "InternetService                                \n",
       "DSL              0.189591   -0.075779  0.714441\n",
       "Fiber optic      0.418928    0.153558  1.578656\n",
       "No               0.074050   -0.191320  0.279044"
      ]
     },
     "metadata": {},
     "output_type": "display_data"
    },
    {
     "data": {
      "text/html": [
       "<div>\n",
       "<style scoped>\n",
       "    .dataframe tbody tr th:only-of-type {\n",
       "        vertical-align: middle;\n",
       "    }\n",
       "\n",
       "    .dataframe tbody tr th {\n",
       "        vertical-align: top;\n",
       "    }\n",
       "\n",
       "    .dataframe thead th {\n",
       "        text-align: right;\n",
       "    }\n",
       "</style>\n",
       "<table border=\"1\" class=\"dataframe\">\n",
       "  <thead>\n",
       "    <tr style=\"text-align: right;\">\n",
       "      <th></th>\n",
       "      <th>Media</th>\n",
       "      <th>Diferencia</th>\n",
       "      <th>Tasa</th>\n",
       "    </tr>\n",
       "    <tr>\n",
       "      <th>OnlineSecurity</th>\n",
       "      <th></th>\n",
       "      <th></th>\n",
       "      <th></th>\n",
       "    </tr>\n",
       "  </thead>\n",
       "  <tbody>\n",
       "    <tr>\n",
       "      <th>No</th>\n",
       "      <td>0.417667</td>\n",
       "      <td>0.152297</td>\n",
       "      <td>1.573906</td>\n",
       "    </tr>\n",
       "    <tr>\n",
       "      <th>No internet service</th>\n",
       "      <td>0.074050</td>\n",
       "      <td>-0.191320</td>\n",
       "      <td>0.279044</td>\n",
       "    </tr>\n",
       "    <tr>\n",
       "      <th>Yes</th>\n",
       "      <td>0.146112</td>\n",
       "      <td>-0.119258</td>\n",
       "      <td>0.550597</td>\n",
       "    </tr>\n",
       "  </tbody>\n",
       "</table>\n",
       "</div>"
      ],
      "text/plain": [
       "                        Media  Diferencia      Tasa\n",
       "OnlineSecurity                                     \n",
       "No                   0.417667    0.152297  1.573906\n",
       "No internet service  0.074050   -0.191320  0.279044\n",
       "Yes                  0.146112   -0.119258  0.550597"
      ]
     },
     "metadata": {},
     "output_type": "display_data"
    },
    {
     "data": {
      "text/html": [
       "<div>\n",
       "<style scoped>\n",
       "    .dataframe tbody tr th:only-of-type {\n",
       "        vertical-align: middle;\n",
       "    }\n",
       "\n",
       "    .dataframe tbody tr th {\n",
       "        vertical-align: top;\n",
       "    }\n",
       "\n",
       "    .dataframe thead th {\n",
       "        text-align: right;\n",
       "    }\n",
       "</style>\n",
       "<table border=\"1\" class=\"dataframe\">\n",
       "  <thead>\n",
       "    <tr style=\"text-align: right;\">\n",
       "      <th></th>\n",
       "      <th>Media</th>\n",
       "      <th>Diferencia</th>\n",
       "      <th>Tasa</th>\n",
       "    </tr>\n",
       "    <tr>\n",
       "      <th>OnlineBackup</th>\n",
       "      <th></th>\n",
       "      <th></th>\n",
       "      <th></th>\n",
       "    </tr>\n",
       "  </thead>\n",
       "  <tbody>\n",
       "    <tr>\n",
       "      <th>No</th>\n",
       "      <td>0.399288</td>\n",
       "      <td>0.133918</td>\n",
       "      <td>1.504645</td>\n",
       "    </tr>\n",
       "    <tr>\n",
       "      <th>No internet service</th>\n",
       "      <td>0.074050</td>\n",
       "      <td>-0.191320</td>\n",
       "      <td>0.279044</td>\n",
       "    </tr>\n",
       "    <tr>\n",
       "      <th>Yes</th>\n",
       "      <td>0.215315</td>\n",
       "      <td>-0.050055</td>\n",
       "      <td>0.811377</td>\n",
       "    </tr>\n",
       "  </tbody>\n",
       "</table>\n",
       "</div>"
      ],
      "text/plain": [
       "                        Media  Diferencia      Tasa\n",
       "OnlineBackup                                       \n",
       "No                   0.399288    0.133918  1.504645\n",
       "No internet service  0.074050   -0.191320  0.279044\n",
       "Yes                  0.215315   -0.050055  0.811377"
      ]
     },
     "metadata": {},
     "output_type": "display_data"
    },
    {
     "data": {
      "text/html": [
       "<div>\n",
       "<style scoped>\n",
       "    .dataframe tbody tr th:only-of-type {\n",
       "        vertical-align: middle;\n",
       "    }\n",
       "\n",
       "    .dataframe tbody tr th {\n",
       "        vertical-align: top;\n",
       "    }\n",
       "\n",
       "    .dataframe thead th {\n",
       "        text-align: right;\n",
       "    }\n",
       "</style>\n",
       "<table border=\"1\" class=\"dataframe\">\n",
       "  <thead>\n",
       "    <tr style=\"text-align: right;\">\n",
       "      <th></th>\n",
       "      <th>Media</th>\n",
       "      <th>Diferencia</th>\n",
       "      <th>Tasa</th>\n",
       "    </tr>\n",
       "    <tr>\n",
       "      <th>DeviceProtection</th>\n",
       "      <th></th>\n",
       "      <th></th>\n",
       "      <th></th>\n",
       "    </tr>\n",
       "  </thead>\n",
       "  <tbody>\n",
       "    <tr>\n",
       "      <th>No</th>\n",
       "      <td>0.391276</td>\n",
       "      <td>0.125906</td>\n",
       "      <td>1.474456</td>\n",
       "    </tr>\n",
       "    <tr>\n",
       "      <th>No internet service</th>\n",
       "      <td>0.074050</td>\n",
       "      <td>-0.191320</td>\n",
       "      <td>0.279044</td>\n",
       "    </tr>\n",
       "    <tr>\n",
       "      <th>Yes</th>\n",
       "      <td>0.225021</td>\n",
       "      <td>-0.040349</td>\n",
       "      <td>0.847951</td>\n",
       "    </tr>\n",
       "  </tbody>\n",
       "</table>\n",
       "</div>"
      ],
      "text/plain": [
       "                        Media  Diferencia      Tasa\n",
       "DeviceProtection                                   \n",
       "No                   0.391276    0.125906  1.474456\n",
       "No internet service  0.074050   -0.191320  0.279044\n",
       "Yes                  0.225021   -0.040349  0.847951"
      ]
     },
     "metadata": {},
     "output_type": "display_data"
    },
    {
     "data": {
      "text/html": [
       "<div>\n",
       "<style scoped>\n",
       "    .dataframe tbody tr th:only-of-type {\n",
       "        vertical-align: middle;\n",
       "    }\n",
       "\n",
       "    .dataframe tbody tr th {\n",
       "        vertical-align: top;\n",
       "    }\n",
       "\n",
       "    .dataframe thead th {\n",
       "        text-align: right;\n",
       "    }\n",
       "</style>\n",
       "<table border=\"1\" class=\"dataframe\">\n",
       "  <thead>\n",
       "    <tr style=\"text-align: right;\">\n",
       "      <th></th>\n",
       "      <th>Media</th>\n",
       "      <th>Diferencia</th>\n",
       "      <th>Tasa</th>\n",
       "    </tr>\n",
       "    <tr>\n",
       "      <th>TechSupport</th>\n",
       "      <th></th>\n",
       "      <th></th>\n",
       "      <th></th>\n",
       "    </tr>\n",
       "  </thead>\n",
       "  <tbody>\n",
       "    <tr>\n",
       "      <th>No</th>\n",
       "      <td>0.416355</td>\n",
       "      <td>0.150985</td>\n",
       "      <td>1.568960</td>\n",
       "    </tr>\n",
       "    <tr>\n",
       "      <th>No internet service</th>\n",
       "      <td>0.074050</td>\n",
       "      <td>-0.191320</td>\n",
       "      <td>0.279044</td>\n",
       "    </tr>\n",
       "    <tr>\n",
       "      <th>Yes</th>\n",
       "      <td>0.151663</td>\n",
       "      <td>-0.113706</td>\n",
       "      <td>0.571517</td>\n",
       "    </tr>\n",
       "  </tbody>\n",
       "</table>\n",
       "</div>"
      ],
      "text/plain": [
       "                        Media  Diferencia      Tasa\n",
       "TechSupport                                        \n",
       "No                   0.416355    0.150985  1.568960\n",
       "No internet service  0.074050   -0.191320  0.279044\n",
       "Yes                  0.151663   -0.113706  0.571517"
      ]
     },
     "metadata": {},
     "output_type": "display_data"
    },
    {
     "data": {
      "text/html": [
       "<div>\n",
       "<style scoped>\n",
       "    .dataframe tbody tr th:only-of-type {\n",
       "        vertical-align: middle;\n",
       "    }\n",
       "\n",
       "    .dataframe tbody tr th {\n",
       "        vertical-align: top;\n",
       "    }\n",
       "\n",
       "    .dataframe thead th {\n",
       "        text-align: right;\n",
       "    }\n",
       "</style>\n",
       "<table border=\"1\" class=\"dataframe\">\n",
       "  <thead>\n",
       "    <tr style=\"text-align: right;\">\n",
       "      <th></th>\n",
       "      <th>Media</th>\n",
       "      <th>Diferencia</th>\n",
       "      <th>Tasa</th>\n",
       "    </tr>\n",
       "    <tr>\n",
       "      <th>StreamingTV</th>\n",
       "      <th></th>\n",
       "      <th></th>\n",
       "      <th></th>\n",
       "    </tr>\n",
       "  </thead>\n",
       "  <tbody>\n",
       "    <tr>\n",
       "      <th>No</th>\n",
       "      <td>0.335231</td>\n",
       "      <td>0.069861</td>\n",
       "      <td>1.263261</td>\n",
       "    </tr>\n",
       "    <tr>\n",
       "      <th>No internet service</th>\n",
       "      <td>0.074050</td>\n",
       "      <td>-0.191320</td>\n",
       "      <td>0.279044</td>\n",
       "    </tr>\n",
       "    <tr>\n",
       "      <th>Yes</th>\n",
       "      <td>0.300702</td>\n",
       "      <td>0.035332</td>\n",
       "      <td>1.133143</td>\n",
       "    </tr>\n",
       "  </tbody>\n",
       "</table>\n",
       "</div>"
      ],
      "text/plain": [
       "                        Media  Diferencia      Tasa\n",
       "StreamingTV                                        \n",
       "No                   0.335231    0.069861  1.263261\n",
       "No internet service  0.074050   -0.191320  0.279044\n",
       "Yes                  0.300702    0.035332  1.133143"
      ]
     },
     "metadata": {},
     "output_type": "display_data"
    },
    {
     "data": {
      "text/html": [
       "<div>\n",
       "<style scoped>\n",
       "    .dataframe tbody tr th:only-of-type {\n",
       "        vertical-align: middle;\n",
       "    }\n",
       "\n",
       "    .dataframe tbody tr th {\n",
       "        vertical-align: top;\n",
       "    }\n",
       "\n",
       "    .dataframe thead th {\n",
       "        text-align: right;\n",
       "    }\n",
       "</style>\n",
       "<table border=\"1\" class=\"dataframe\">\n",
       "  <thead>\n",
       "    <tr style=\"text-align: right;\">\n",
       "      <th></th>\n",
       "      <th>Media</th>\n",
       "      <th>Diferencia</th>\n",
       "      <th>Tasa</th>\n",
       "    </tr>\n",
       "    <tr>\n",
       "      <th>StreamingMovies</th>\n",
       "      <th></th>\n",
       "      <th></th>\n",
       "      <th></th>\n",
       "    </tr>\n",
       "  </thead>\n",
       "  <tbody>\n",
       "    <tr>\n",
       "      <th>No</th>\n",
       "      <td>0.336804</td>\n",
       "      <td>0.071434</td>\n",
       "      <td>1.269188</td>\n",
       "    </tr>\n",
       "    <tr>\n",
       "      <th>No internet service</th>\n",
       "      <td>0.074050</td>\n",
       "      <td>-0.191320</td>\n",
       "      <td>0.279044</td>\n",
       "    </tr>\n",
       "    <tr>\n",
       "      <th>Yes</th>\n",
       "      <td>0.299414</td>\n",
       "      <td>0.034044</td>\n",
       "      <td>1.128291</td>\n",
       "    </tr>\n",
       "  </tbody>\n",
       "</table>\n",
       "</div>"
      ],
      "text/plain": [
       "                        Media  Diferencia      Tasa\n",
       "StreamingMovies                                    \n",
       "No                   0.336804    0.071434  1.269188\n",
       "No internet service  0.074050   -0.191320  0.279044\n",
       "Yes                  0.299414    0.034044  1.128291"
      ]
     },
     "metadata": {},
     "output_type": "display_data"
    },
    {
     "data": {
      "text/html": [
       "<div>\n",
       "<style scoped>\n",
       "    .dataframe tbody tr th:only-of-type {\n",
       "        vertical-align: middle;\n",
       "    }\n",
       "\n",
       "    .dataframe tbody tr th {\n",
       "        vertical-align: top;\n",
       "    }\n",
       "\n",
       "    .dataframe thead th {\n",
       "        text-align: right;\n",
       "    }\n",
       "</style>\n",
       "<table border=\"1\" class=\"dataframe\">\n",
       "  <thead>\n",
       "    <tr style=\"text-align: right;\">\n",
       "      <th></th>\n",
       "      <th>Media</th>\n",
       "      <th>Diferencia</th>\n",
       "      <th>Tasa</th>\n",
       "    </tr>\n",
       "    <tr>\n",
       "      <th>Contract</th>\n",
       "      <th></th>\n",
       "      <th></th>\n",
       "      <th></th>\n",
       "    </tr>\n",
       "  </thead>\n",
       "  <tbody>\n",
       "    <tr>\n",
       "      <th>Month-to-month</th>\n",
       "      <td>0.427097</td>\n",
       "      <td>0.161727</td>\n",
       "      <td>1.609440</td>\n",
       "    </tr>\n",
       "    <tr>\n",
       "      <th>One year</th>\n",
       "      <td>0.112695</td>\n",
       "      <td>-0.152675</td>\n",
       "      <td>0.424672</td>\n",
       "    </tr>\n",
       "    <tr>\n",
       "      <th>Two year</th>\n",
       "      <td>0.028319</td>\n",
       "      <td>-0.237051</td>\n",
       "      <td>0.106714</td>\n",
       "    </tr>\n",
       "  </tbody>\n",
       "</table>\n",
       "</div>"
      ],
      "text/plain": [
       "                   Media  Diferencia      Tasa\n",
       "Contract                                      \n",
       "Month-to-month  0.427097    0.161727  1.609440\n",
       "One year        0.112695   -0.152675  0.424672\n",
       "Two year        0.028319   -0.237051  0.106714"
      ]
     },
     "metadata": {},
     "output_type": "display_data"
    },
    {
     "data": {
      "text/html": [
       "<div>\n",
       "<style scoped>\n",
       "    .dataframe tbody tr th:only-of-type {\n",
       "        vertical-align: middle;\n",
       "    }\n",
       "\n",
       "    .dataframe tbody tr th {\n",
       "        vertical-align: top;\n",
       "    }\n",
       "\n",
       "    .dataframe thead th {\n",
       "        text-align: right;\n",
       "    }\n",
       "</style>\n",
       "<table border=\"1\" class=\"dataframe\">\n",
       "  <thead>\n",
       "    <tr style=\"text-align: right;\">\n",
       "      <th></th>\n",
       "      <th>Media</th>\n",
       "      <th>Diferencia</th>\n",
       "      <th>Tasa</th>\n",
       "    </tr>\n",
       "    <tr>\n",
       "      <th>PaperlessBilling</th>\n",
       "      <th></th>\n",
       "      <th></th>\n",
       "      <th></th>\n",
       "    </tr>\n",
       "  </thead>\n",
       "  <tbody>\n",
       "    <tr>\n",
       "      <th>No</th>\n",
       "      <td>0.163301</td>\n",
       "      <td>-0.102069</td>\n",
       "      <td>0.615371</td>\n",
       "    </tr>\n",
       "    <tr>\n",
       "      <th>Yes</th>\n",
       "      <td>0.335651</td>\n",
       "      <td>0.070281</td>\n",
       "      <td>1.264842</td>\n",
       "    </tr>\n",
       "  </tbody>\n",
       "</table>\n",
       "</div>"
      ],
      "text/plain": [
       "                     Media  Diferencia      Tasa\n",
       "PaperlessBilling                                \n",
       "No                0.163301   -0.102069  0.615371\n",
       "Yes               0.335651    0.070281  1.264842"
      ]
     },
     "metadata": {},
     "output_type": "display_data"
    },
    {
     "data": {
      "text/html": [
       "<div>\n",
       "<style scoped>\n",
       "    .dataframe tbody tr th:only-of-type {\n",
       "        vertical-align: middle;\n",
       "    }\n",
       "\n",
       "    .dataframe tbody tr th {\n",
       "        vertical-align: top;\n",
       "    }\n",
       "\n",
       "    .dataframe thead th {\n",
       "        text-align: right;\n",
       "    }\n",
       "</style>\n",
       "<table border=\"1\" class=\"dataframe\">\n",
       "  <thead>\n",
       "    <tr style=\"text-align: right;\">\n",
       "      <th></th>\n",
       "      <th>Media</th>\n",
       "      <th>Diferencia</th>\n",
       "      <th>Tasa</th>\n",
       "    </tr>\n",
       "    <tr>\n",
       "      <th>PaymentMethod</th>\n",
       "      <th></th>\n",
       "      <th></th>\n",
       "      <th></th>\n",
       "    </tr>\n",
       "  </thead>\n",
       "  <tbody>\n",
       "    <tr>\n",
       "      <th>Bank transfer (automatic)</th>\n",
       "      <td>0.167098</td>\n",
       "      <td>-0.098271</td>\n",
       "      <td>0.629681</td>\n",
       "    </tr>\n",
       "    <tr>\n",
       "      <th>Credit card (automatic)</th>\n",
       "      <td>0.152431</td>\n",
       "      <td>-0.112939</td>\n",
       "      <td>0.574410</td>\n",
       "    </tr>\n",
       "    <tr>\n",
       "      <th>Electronic check</th>\n",
       "      <td>0.452854</td>\n",
       "      <td>0.187484</td>\n",
       "      <td>1.706502</td>\n",
       "    </tr>\n",
       "    <tr>\n",
       "      <th>Mailed check</th>\n",
       "      <td>0.191067</td>\n",
       "      <td>-0.074303</td>\n",
       "      <td>0.720003</td>\n",
       "    </tr>\n",
       "  </tbody>\n",
       "</table>\n",
       "</div>"
      ],
      "text/plain": [
       "                              Media  Diferencia      Tasa\n",
       "PaymentMethod                                            \n",
       "Bank transfer (automatic)  0.167098   -0.098271  0.629681\n",
       "Credit card (automatic)    0.152431   -0.112939  0.574410\n",
       "Electronic check           0.452854    0.187484  1.706502\n",
       "Mailed check               0.191067   -0.074303  0.720003"
      ]
     },
     "metadata": {},
     "output_type": "display_data"
    }
   ],
   "source": [
    "for i in categoricas:\n",
    "    dfGrupo = df.groupby(by=i).Churn.agg(['mean']) \n",
    "    dfGrupo['Diferencia'] = dfGrupo['mean'] - mediaGlobal \n",
    "    dfGrupo['Tasa'] = dfGrupo['mean'] / mediaGlobal\n",
    "    dfGrupo.rename(columns={'mean':'Media'}, inplace = True)\n",
    "    display(dfGrupo) "
   ]
  },
  {
   "cell_type": "markdown",
   "id": "e52e7f09",
   "metadata": {},
   "source": [
    "El código anterior muestra la tasa de riesgo para cada grupo de cada variable del conjunto de datos, donde se evidencia que:\n",
    "\n",
    "<ul>\n",
    "    <li>En cuanto al género, las medias tienen cierta similitud con la media global, por ende, el riesgo es cercano a 1.</li>\n",
    "    <li>Los jubilados tienden a abandonar más que los no mayores.</li>\n",
    "    <li>Las personas con pareja abandonan menos que las personas sin pareja.</li>\n",
    "    <li>Las personas que usan el servicio telefónico no corren el riesgo de abandonar.</li>\n",
    "    <li>Los clientes sin soporte técnico tienden a abandonar más que aquellos que sí lo tienen.</li>\n",
    "    <li>Las personas con contratos mensuales cancelan el contrato con mucha más frecuencia que otras.</li>\n",
    "</ul>\n"
   ]
  },
  {
   "cell_type": "markdown",
   "id": "f3230e69",
   "metadata": {},
   "source": [
    "## Información mutua"
   ]
  },
  {
   "cell_type": "markdown",
   "id": "6019fa3e",
   "metadata": {},
   "source": [
    "La información mutua es una métrica empleada para medir el grado de dependencia entre las variables categóricas. En este caso, se puede medir el grado de dependencia entre una variable categórica y la variable objetivo. Si dos variables son dependientes, conocer el valor de una variable brindará información sobre la otra. Por otro lado, si una variable es completamente independiente de la variable de destino, no es útil y puede eliminarse de forma segura del conjunto de datos. Valores más altos de información mutua significan un mayor grado de dependencia, así, esta variable sería elemental para realizar la predicción."
   ]
  },
  {
   "cell_type": "code",
   "execution_count": 56,
   "id": "52d34b40",
   "metadata": {},
   "outputs": [],
   "source": [
    "def calculoIM(series):\n",
    "    return mutual_info_score(series, df.Churn) "
   ]
  },
  {
   "cell_type": "code",
   "execution_count": 57,
   "id": "dfb263de",
   "metadata": {},
   "outputs": [],
   "source": [
    "dfIM = df[categoricas].apply(calculoIM) \n",
    "dfIM = dfIM.sort_values(ascending=False).to_frame(name='IM')"
   ]
  },
  {
   "cell_type": "code",
   "execution_count": 58,
   "id": "434118a8",
   "metadata": {},
   "outputs": [
    {
     "data": {
      "text/html": [
       "<div>\n",
       "<style scoped>\n",
       "    .dataframe tbody tr th:only-of-type {\n",
       "        vertical-align: middle;\n",
       "    }\n",
       "\n",
       "    .dataframe tbody tr th {\n",
       "        vertical-align: top;\n",
       "    }\n",
       "\n",
       "    .dataframe thead th {\n",
       "        text-align: right;\n",
       "    }\n",
       "</style>\n",
       "<table border=\"1\" class=\"dataframe\">\n",
       "  <thead>\n",
       "    <tr style=\"text-align: right;\">\n",
       "      <th></th>\n",
       "      <th>IM</th>\n",
       "    </tr>\n",
       "  </thead>\n",
       "  <tbody>\n",
       "    <tr>\n",
       "      <th>Contract</th>\n",
       "      <td>0.098453</td>\n",
       "    </tr>\n",
       "    <tr>\n",
       "      <th>OnlineSecurity</th>\n",
       "      <td>0.064677</td>\n",
       "    </tr>\n",
       "    <tr>\n",
       "      <th>TechSupport</th>\n",
       "      <td>0.063021</td>\n",
       "    </tr>\n",
       "    <tr>\n",
       "      <th>InternetService</th>\n",
       "      <td>0.055574</td>\n",
       "    </tr>\n",
       "    <tr>\n",
       "      <th>OnlineBackup</th>\n",
       "      <td>0.046792</td>\n",
       "    </tr>\n",
       "    <tr>\n",
       "      <th>PaymentMethod</th>\n",
       "      <td>0.044519</td>\n",
       "    </tr>\n",
       "    <tr>\n",
       "      <th>DeviceProtection</th>\n",
       "      <td>0.043917</td>\n",
       "    </tr>\n",
       "    <tr>\n",
       "      <th>StreamingMovies</th>\n",
       "      <td>0.032001</td>\n",
       "    </tr>\n",
       "    <tr>\n",
       "      <th>StreamingTV</th>\n",
       "      <td>0.031908</td>\n",
       "    </tr>\n",
       "    <tr>\n",
       "      <th>PaperlessBilling</th>\n",
       "      <td>0.019194</td>\n",
       "    </tr>\n",
       "    <tr>\n",
       "      <th>Dependents</th>\n",
       "      <td>0.014467</td>\n",
       "    </tr>\n",
       "    <tr>\n",
       "      <th>Partner</th>\n",
       "      <td>0.011454</td>\n",
       "    </tr>\n",
       "    <tr>\n",
       "      <th>SeniorCitizen</th>\n",
       "      <td>0.010577</td>\n",
       "    </tr>\n",
       "    <tr>\n",
       "      <th>MultipleLines</th>\n",
       "      <td>0.000801</td>\n",
       "    </tr>\n",
       "    <tr>\n",
       "      <th>PhoneService</th>\n",
       "      <td>0.000072</td>\n",
       "    </tr>\n",
       "    <tr>\n",
       "      <th>gender</th>\n",
       "      <td>0.000037</td>\n",
       "    </tr>\n",
       "  </tbody>\n",
       "</table>\n",
       "</div>"
      ],
      "text/plain": [
       "                        IM\n",
       "Contract          0.098453\n",
       "OnlineSecurity    0.064677\n",
       "TechSupport       0.063021\n",
       "InternetService   0.055574\n",
       "OnlineBackup      0.046792\n",
       "PaymentMethod     0.044519\n",
       "DeviceProtection  0.043917\n",
       "StreamingMovies   0.032001\n",
       "StreamingTV       0.031908\n",
       "PaperlessBilling  0.019194\n",
       "Dependents        0.014467\n",
       "Partner           0.011454\n",
       "SeniorCitizen     0.010577\n",
       "MultipleLines     0.000801\n",
       "PhoneService      0.000072\n",
       "gender            0.000037"
      ]
     },
     "execution_count": 58,
     "metadata": {},
     "output_type": "execute_result"
    }
   ],
   "source": [
    "dfIM"
   ]
  },
  {
   "cell_type": "markdown",
   "id": "47705bcb",
   "metadata": {},
   "source": [
    "Según la información anterior, el contrato, la seguridad en línea y el soporte técnico se encuentran entre las características más importantes del conjunto de datos con respecto a la variable objetivo."
   ]
  },
  {
   "cell_type": "markdown",
   "id": "92a7159a",
   "metadata": {},
   "source": [
    "## Coeficiente de correlación"
   ]
  },
  {
   "cell_type": "markdown",
   "id": "d5bafefb",
   "metadata": {},
   "source": [
    "Para medir la dependencia entre variables cuantitativas, uno de los métodos a emplear es el coeficiente de correlación."
   ]
  },
  {
   "cell_type": "code",
   "execution_count": 59,
   "id": "af0bbb79",
   "metadata": {},
   "outputs": [
    {
     "data": {
      "text/plain": [
       "tenure           -0.352229\n",
       "MonthlyCharges    0.193356\n",
       "TotalCharges     -0.198324\n",
       "dtype: float64"
      ]
     },
     "execution_count": 59,
     "metadata": {},
     "output_type": "execute_result"
    }
   ],
   "source": [
    "df[numericas].corrwith(df.Churn) "
   ]
  },
  {
   "cell_type": "code",
   "execution_count": 60,
   "id": "78606b2e",
   "metadata": {},
   "outputs": [],
   "source": [
    "data2 = df.copy()"
   ]
  },
  {
   "cell_type": "code",
   "execution_count": 61,
   "id": "878ef074",
   "metadata": {},
   "outputs": [],
   "source": [
    "condicionTenure = [\n",
    "    (data2['tenure'] <= 2),\n",
    "    (data2['tenure'] >= 3) & (data2['tenure'] <= 12),\n",
    "    (data2['tenure'] > 12)\n",
    "    ]"
   ]
  },
  {
   "cell_type": "code",
   "execution_count": 62,
   "id": "afc369f5",
   "metadata": {},
   "outputs": [],
   "source": [
    "valoresTenure = ['0-2', '3-12', '>12']"
   ]
  },
  {
   "cell_type": "code",
   "execution_count": 63,
   "id": "d3629438",
   "metadata": {},
   "outputs": [],
   "source": [
    "data2['Tenure'] = np.select(condicionTenure, valoresTenure)"
   ]
  },
  {
   "cell_type": "code",
   "execution_count": 64,
   "id": "78e73815",
   "metadata": {},
   "outputs": [
    {
     "data": {
      "image/png": "[encoded data removed]",
      "text/plain": [
       "<Figure size 640x480 with 1 Axes>"
      ]
     },
     "metadata": {},
     "output_type": "display_data"
    }
   ],
   "source": [
    "sns.barplot(data = data2, x = 'Tenure', y = 'Churn', errorbar = None)\n",
    "plt.title('Gráfico 20: Permanencia vs tasa de abandono (correlación -0.35)')\n",
    "plt.xlabel('Permanencia')\n",
    "plt.ylabel('Tasa de abandono')\n",
    "plt.show()"
   ]
  },
  {
   "cell_type": "code",
   "execution_count": 65,
   "id": "cacf91d8",
   "metadata": {},
   "outputs": [],
   "source": [
    "condicionMonthly = [\n",
    "    (data2['MonthlyCharges'] < 21),\n",
    "    (data2['MonthlyCharges'] >= 21) & (data2['MonthlyCharges'] <= 50),\n",
    "    (data2['MonthlyCharges'] > 50)\n",
    "    ]"
   ]
  },
  {
   "cell_type": "code",
   "execution_count": 66,
   "id": "57a60666",
   "metadata": {},
   "outputs": [],
   "source": [
    "valoresMonthly = ['0-20', '21-50', '>50']"
   ]
  },
  {
   "cell_type": "code",
   "execution_count": 67,
   "id": "b86c1664",
   "metadata": {},
   "outputs": [],
   "source": [
    "data2['Monthly charges'] = np.select(condicionMonthly, valoresMonthly)"
   ]
  },
  {
   "cell_type": "code",
   "execution_count": 68,
   "id": "d689ab14",
   "metadata": {},
   "outputs": [
    {
     "data": {
      "image/png": "[encoded data removed]",
      "text/plain": [
       "<Figure size 640x480 with 1 Axes>"
      ]
     },
     "metadata": {},
     "output_type": "display_data"
    }
   ],
   "source": [
    "sns.barplot(data = data2, x = 'Monthly charges', y = 'Churn', errorbar = None)\n",
    "plt.title('Gráfico 21: Cargos mensuales vs tasa de abandono (correlación 0.19)')\n",
    "plt.xlabel('Cargos mensuales')\n",
    "plt.ylabel('Tasa de abandono')\n",
    "plt.ylim(0, 0.35)\n",
    "plt.show()"
   ]
  },
  {
   "cell_type": "markdown",
   "id": "73484002",
   "metadata": {},
   "source": [
    "En cuanto a las variable cuantitativas se obtiene que:\n",
    "    \n",
    "<ul>\n",
    "    <li>La correlación entre permanencia y abandono es -0,35, es decir, cuanto más tiempo se queden los clientes, menos tienden a abandonar. Para quienes permanecen en la empresa durante dos meses o menos, la tasa de abandono es, aproximadamente, del 60 %; para clientes con antigüedad entre 3 y 12 meses, la tasa de abandono es del 40%; y para los clientes que se quedan más de un año, la tasa de abandono no supera el 20%. </li>\n",
    "    <li>Con respecto a los cargos mensuales, existe una correlación positiva de 0.19 con la tasa de abandono, lo que significa que los clientes que pagan más tienden a irse más seguido. Para valores más altos, la tasa de abandono es más alta.</li>\n",
    "</ul>"
   ]
  },
  {
   "cell_type": "markdown",
   "id": "55d7db6f",
   "metadata": {},
   "source": [
    "# Modelado"
   ]
  },
  {
   "cell_type": "markdown",
   "id": "03030163",
   "metadata": {},
   "source": [
    "En ciertas variables categóricas, uno de los posibles resultados tiene relación con otra variable, por ejemplo en lo referente a múltiples líneas, los resultados serían \"No\", \"Sí\" y \"Sin servicio de internet\". El último resultado antecede a la variable relacionada al servicio de internet, por esta razón, se deduce que esta respuesta equivale a un \"No\". A continuación, se hará un reemplazo de estos valores."
   ]
  },
  {
   "cell_type": "code",
   "execution_count": 69,
   "id": "e456a474",
   "metadata": {},
   "outputs": [],
   "source": [
    "df.replace({\"No phone service\": 'No', \"No internet service\": 'No'}, inplace = True)"
   ]
  },
  {
   "cell_type": "code",
   "execution_count": 70,
   "id": "5bf6f565",
   "metadata": {},
   "outputs": [
    {
     "data": {
      "text/plain": [
       "customerID          7043\n",
       "gender                 2\n",
       "SeniorCitizen          2\n",
       "Partner                2\n",
       "Dependents             2\n",
       "tenure                73\n",
       "PhoneService           2\n",
       "MultipleLines          2\n",
       "InternetService        3\n",
       "OnlineSecurity         2\n",
       "OnlineBackup           2\n",
       "DeviceProtection       2\n",
       "TechSupport            2\n",
       "StreamingTV            2\n",
       "StreamingMovies        2\n",
       "Contract               3\n",
       "PaperlessBilling       2\n",
       "PaymentMethod          4\n",
       "MonthlyCharges      1585\n",
       "TotalCharges        6531\n",
       "Churn                  2\n",
       "dtype: int64"
      ]
     },
     "execution_count": 70,
     "metadata": {},
     "output_type": "execute_result"
    }
   ],
   "source": [
    "df.nunique()"
   ]
  },
  {
   "cell_type": "markdown",
   "id": "8bd48d26",
   "metadata": {},
   "source": [
    "Una vez realizado este reemplazo, se necesitará que todas las variables estén en un formato numérico para poder crear el modelo. En este caso, se aplicará el método One Hot Encoding."
   ]
  },
  {
   "cell_type": "code",
   "execution_count": 71,
   "id": "3e42b1b9",
   "metadata": {},
   "outputs": [],
   "source": [
    "dfModel = df.copy()"
   ]
  },
  {
   "cell_type": "code",
   "execution_count": 72,
   "id": "ae4f1e01",
   "metadata": {},
   "outputs": [],
   "source": [
    "for col in categoricas:\n",
    "    dfModel = pd.concat([dfModel, (pd.get_dummies(dfModel[col]))], axis=1)\n",
    "    dfModel.drop(columns=[col], inplace=True)"
   ]
  },
  {
   "cell_type": "code",
   "execution_count": 73,
   "id": "bc553291",
   "metadata": {},
   "outputs": [
    {
     "data": {
      "text/html": [
       "<div>\n",
       "<style scoped>\n",
       "    .dataframe tbody tr th:only-of-type {\n",
       "        vertical-align: middle;\n",
       "    }\n",
       "\n",
       "    .dataframe tbody tr th {\n",
       "        vertical-align: top;\n",
       "    }\n",
       "\n",
       "    .dataframe thead th {\n",
       "        text-align: right;\n",
       "    }\n",
       "</style>\n",
       "<table border=\"1\" class=\"dataframe\">\n",
       "  <thead>\n",
       "    <tr style=\"text-align: right;\">\n",
       "      <th></th>\n",
       "      <th>customerID</th>\n",
       "      <th>tenure</th>\n",
       "      <th>MonthlyCharges</th>\n",
       "      <th>TotalCharges</th>\n",
       "      <th>Churn</th>\n",
       "      <th>Female</th>\n",
       "      <th>Male</th>\n",
       "      <th>0</th>\n",
       "      <th>1</th>\n",
       "      <th>No</th>\n",
       "      <th>Yes</th>\n",
       "      <th>No</th>\n",
       "      <th>Yes</th>\n",
       "      <th>No</th>\n",
       "      <th>Yes</th>\n",
       "      <th>No</th>\n",
       "      <th>Yes</th>\n",
       "      <th>DSL</th>\n",
       "      <th>Fiber optic</th>\n",
       "      <th>No</th>\n",
       "      <th>No</th>\n",
       "      <th>Yes</th>\n",
       "      <th>No</th>\n",
       "      <th>Yes</th>\n",
       "      <th>No</th>\n",
       "      <th>Yes</th>\n",
       "      <th>No</th>\n",
       "      <th>Yes</th>\n",
       "      <th>No</th>\n",
       "      <th>Yes</th>\n",
       "      <th>No</th>\n",
       "      <th>Yes</th>\n",
       "      <th>Month-to-month</th>\n",
       "      <th>One year</th>\n",
       "      <th>Two year</th>\n",
       "      <th>No</th>\n",
       "      <th>Yes</th>\n",
       "      <th>Bank transfer (automatic)</th>\n",
       "      <th>Credit card (automatic)</th>\n",
       "      <th>Electronic check</th>\n",
       "      <th>Mailed check</th>\n",
       "    </tr>\n",
       "  </thead>\n",
       "  <tbody>\n",
       "    <tr>\n",
       "      <th>0</th>\n",
       "      <td>7590-VHVEG</td>\n",
       "      <td>1</td>\n",
       "      <td>29.85</td>\n",
       "      <td>29.85</td>\n",
       "      <td>0</td>\n",
       "      <td>1</td>\n",
       "      <td>0</td>\n",
       "      <td>1</td>\n",
       "      <td>0</td>\n",
       "      <td>0</td>\n",
       "      <td>1</td>\n",
       "      <td>1</td>\n",
       "      <td>0</td>\n",
       "      <td>1</td>\n",
       "      <td>0</td>\n",
       "      <td>1</td>\n",
       "      <td>0</td>\n",
       "      <td>1</td>\n",
       "      <td>0</td>\n",
       "      <td>0</td>\n",
       "      <td>1</td>\n",
       "      <td>0</td>\n",
       "      <td>0</td>\n",
       "      <td>1</td>\n",
       "      <td>1</td>\n",
       "      <td>0</td>\n",
       "      <td>1</td>\n",
       "      <td>0</td>\n",
       "      <td>1</td>\n",
       "      <td>0</td>\n",
       "      <td>1</td>\n",
       "      <td>0</td>\n",
       "      <td>1</td>\n",
       "      <td>0</td>\n",
       "      <td>0</td>\n",
       "      <td>0</td>\n",
       "      <td>1</td>\n",
       "      <td>0</td>\n",
       "      <td>0</td>\n",
       "      <td>1</td>\n",
       "      <td>0</td>\n",
       "    </tr>\n",
       "    <tr>\n",
       "      <th>1</th>\n",
       "      <td>5575-GNVDE</td>\n",
       "      <td>34</td>\n",
       "      <td>56.95</td>\n",
       "      <td>1889.50</td>\n",
       "      <td>0</td>\n",
       "      <td>0</td>\n",
       "      <td>1</td>\n",
       "      <td>1</td>\n",
       "      <td>0</td>\n",
       "      <td>1</td>\n",
       "      <td>0</td>\n",
       "      <td>1</td>\n",
       "      <td>0</td>\n",
       "      <td>0</td>\n",
       "      <td>1</td>\n",
       "      <td>1</td>\n",
       "      <td>0</td>\n",
       "      <td>1</td>\n",
       "      <td>0</td>\n",
       "      <td>0</td>\n",
       "      <td>0</td>\n",
       "      <td>1</td>\n",
       "      <td>1</td>\n",
       "      <td>0</td>\n",
       "      <td>0</td>\n",
       "      <td>1</td>\n",
       "      <td>1</td>\n",
       "      <td>0</td>\n",
       "      <td>1</td>\n",
       "      <td>0</td>\n",
       "      <td>1</td>\n",
       "      <td>0</td>\n",
       "      <td>0</td>\n",
       "      <td>1</td>\n",
       "      <td>0</td>\n",
       "      <td>1</td>\n",
       "      <td>0</td>\n",
       "      <td>0</td>\n",
       "      <td>0</td>\n",
       "      <td>0</td>\n",
       "      <td>1</td>\n",
       "    </tr>\n",
       "    <tr>\n",
       "      <th>2</th>\n",
       "      <td>3668-QPYBK</td>\n",
       "      <td>2</td>\n",
       "      <td>53.85</td>\n",
       "      <td>108.15</td>\n",
       "      <td>1</td>\n",
       "      <td>0</td>\n",
       "      <td>1</td>\n",
       "      <td>1</td>\n",
       "      <td>0</td>\n",
       "      <td>1</td>\n",
       "      <td>0</td>\n",
       "      <td>1</td>\n",
       "      <td>0</td>\n",
       "      <td>0</td>\n",
       "      <td>1</td>\n",
       "      <td>1</td>\n",
       "      <td>0</td>\n",
       "      <td>1</td>\n",
       "      <td>0</td>\n",
       "      <td>0</td>\n",
       "      <td>0</td>\n",
       "      <td>1</td>\n",
       "      <td>0</td>\n",
       "      <td>1</td>\n",
       "      <td>1</td>\n",
       "      <td>0</td>\n",
       "      <td>1</td>\n",
       "      <td>0</td>\n",
       "      <td>1</td>\n",
       "      <td>0</td>\n",
       "      <td>1</td>\n",
       "      <td>0</td>\n",
       "      <td>1</td>\n",
       "      <td>0</td>\n",
       "      <td>0</td>\n",
       "      <td>0</td>\n",
       "      <td>1</td>\n",
       "      <td>0</td>\n",
       "      <td>0</td>\n",
       "      <td>0</td>\n",
       "      <td>1</td>\n",
       "    </tr>\n",
       "    <tr>\n",
       "      <th>3</th>\n",
       "      <td>7795-CFOCW</td>\n",
       "      <td>45</td>\n",
       "      <td>42.30</td>\n",
       "      <td>1840.75</td>\n",
       "      <td>0</td>\n",
       "      <td>0</td>\n",
       "      <td>1</td>\n",
       "      <td>1</td>\n",
       "      <td>0</td>\n",
       "      <td>1</td>\n",
       "      <td>0</td>\n",
       "      <td>1</td>\n",
       "      <td>0</td>\n",
       "      <td>1</td>\n",
       "      <td>0</td>\n",
       "      <td>1</td>\n",
       "      <td>0</td>\n",
       "      <td>1</td>\n",
       "      <td>0</td>\n",
       "      <td>0</td>\n",
       "      <td>0</td>\n",
       "      <td>1</td>\n",
       "      <td>1</td>\n",
       "      <td>0</td>\n",
       "      <td>0</td>\n",
       "      <td>1</td>\n",
       "      <td>0</td>\n",
       "      <td>1</td>\n",
       "      <td>1</td>\n",
       "      <td>0</td>\n",
       "      <td>1</td>\n",
       "      <td>0</td>\n",
       "      <td>0</td>\n",
       "      <td>1</td>\n",
       "      <td>0</td>\n",
       "      <td>1</td>\n",
       "      <td>0</td>\n",
       "      <td>1</td>\n",
       "      <td>0</td>\n",
       "      <td>0</td>\n",
       "      <td>0</td>\n",
       "    </tr>\n",
       "    <tr>\n",
       "      <th>4</th>\n",
       "      <td>9237-HQITU</td>\n",
       "      <td>2</td>\n",
       "      <td>70.70</td>\n",
       "      <td>151.65</td>\n",
       "      <td>1</td>\n",
       "      <td>1</td>\n",
       "      <td>0</td>\n",
       "      <td>1</td>\n",
       "      <td>0</td>\n",
       "      <td>1</td>\n",
       "      <td>0</td>\n",
       "      <td>1</td>\n",
       "      <td>0</td>\n",
       "      <td>0</td>\n",
       "      <td>1</td>\n",
       "      <td>1</td>\n",
       "      <td>0</td>\n",
       "      <td>0</td>\n",
       "      <td>1</td>\n",
       "      <td>0</td>\n",
       "      <td>1</td>\n",
       "      <td>0</td>\n",
       "      <td>1</td>\n",
       "      <td>0</td>\n",
       "      <td>1</td>\n",
       "      <td>0</td>\n",
       "      <td>1</td>\n",
       "      <td>0</td>\n",
       "      <td>1</td>\n",
       "      <td>0</td>\n",
       "      <td>1</td>\n",
       "      <td>0</td>\n",
       "      <td>1</td>\n",
       "      <td>0</td>\n",
       "      <td>0</td>\n",
       "      <td>0</td>\n",
       "      <td>1</td>\n",
       "      <td>0</td>\n",
       "      <td>0</td>\n",
       "      <td>1</td>\n",
       "      <td>0</td>\n",
       "    </tr>\n",
       "    <tr>\n",
       "      <th>5</th>\n",
       "      <td>9305-CDSKC</td>\n",
       "      <td>8</td>\n",
       "      <td>99.65</td>\n",
       "      <td>820.50</td>\n",
       "      <td>1</td>\n",
       "      <td>1</td>\n",
       "      <td>0</td>\n",
       "      <td>1</td>\n",
       "      <td>0</td>\n",
       "      <td>1</td>\n",
       "      <td>0</td>\n",
       "      <td>1</td>\n",
       "      <td>0</td>\n",
       "      <td>0</td>\n",
       "      <td>1</td>\n",
       "      <td>0</td>\n",
       "      <td>1</td>\n",
       "      <td>0</td>\n",
       "      <td>1</td>\n",
       "      <td>0</td>\n",
       "      <td>1</td>\n",
       "      <td>0</td>\n",
       "      <td>1</td>\n",
       "      <td>0</td>\n",
       "      <td>0</td>\n",
       "      <td>1</td>\n",
       "      <td>1</td>\n",
       "      <td>0</td>\n",
       "      <td>0</td>\n",
       "      <td>1</td>\n",
       "      <td>0</td>\n",
       "      <td>1</td>\n",
       "      <td>1</td>\n",
       "      <td>0</td>\n",
       "      <td>0</td>\n",
       "      <td>0</td>\n",
       "      <td>1</td>\n",
       "      <td>0</td>\n",
       "      <td>0</td>\n",
       "      <td>1</td>\n",
       "      <td>0</td>\n",
       "    </tr>\n",
       "  </tbody>\n",
       "</table>\n",
       "</div>"
      ],
      "text/plain": [
       "   customerID  tenure  MonthlyCharges  TotalCharges  Churn  Female  Male  0  \\\n",
       "0  7590-VHVEG       1           29.85         29.85      0       1     0  1   \n",
       "1  5575-GNVDE      34           56.95       1889.50      0       0     1  1   \n",
       "2  3668-QPYBK       2           53.85        108.15      1       0     1  1   \n",
       "3  7795-CFOCW      45           42.30       1840.75      0       0     1  1   \n",
       "4  9237-HQITU       2           70.70        151.65      1       1     0  1   \n",
       "5  9305-CDSKC       8           99.65        820.50      1       1     0  1   \n",
       "\n",
       "   1  No  Yes  No  Yes  No  Yes  No  Yes  DSL  Fiber optic  No  No  Yes  No  \\\n",
       "0  0   0    1   1    0   1    0   1    0    1            0   0   1    0   0   \n",
       "1  0   1    0   1    0   0    1   1    0    1            0   0   0    1   1   \n",
       "2  0   1    0   1    0   0    1   1    0    1            0   0   0    1   0   \n",
       "3  0   1    0   1    0   1    0   1    0    1            0   0   0    1   1   \n",
       "4  0   1    0   1    0   0    1   1    0    0            1   0   1    0   1   \n",
       "5  0   1    0   1    0   0    1   0    1    0            1   0   1    0   1   \n",
       "\n",
       "   Yes  No  Yes  No  Yes  No  Yes  No  Yes  Month-to-month  One year  \\\n",
       "0    1   1    0   1    0   1    0   1    0               1         0   \n",
       "1    0   0    1   1    0   1    0   1    0               0         1   \n",
       "2    1   1    0   1    0   1    0   1    0               1         0   \n",
       "3    0   0    1   0    1   1    0   1    0               0         1   \n",
       "4    0   1    0   1    0   1    0   1    0               1         0   \n",
       "5    0   0    1   1    0   0    1   0    1               1         0   \n",
       "\n",
       "   Two year  No  Yes  Bank transfer (automatic)  Credit card (automatic)  \\\n",
       "0         0   0    1                          0                        0   \n",
       "1         0   1    0                          0                        0   \n",
       "2         0   0    1                          0                        0   \n",
       "3         0   1    0                          1                        0   \n",
       "4         0   0    1                          0                        0   \n",
       "5         0   0    1                          0                        0   \n",
       "\n",
       "   Electronic check  Mailed check  \n",
       "0                 1             0  \n",
       "1                 0             1  \n",
       "2                 0             1  \n",
       "3                 0             0  \n",
       "4                 1             0  \n",
       "5                 1             0  "
      ]
     },
     "execution_count": 73,
     "metadata": {},
     "output_type": "execute_result"
    }
   ],
   "source": [
    "dfModel.head(6)"
   ]
  },
  {
   "cell_type": "markdown",
   "id": "e58a0fcd",
   "metadata": {},
   "source": [
    "Una vez realizado este proceso, lo siguiente es estandarizar los datos de las variables cuantitativas debido a que, al haber una diferencia alta entre sus rangos de valor, se podría generar un sesgo."
   ]
  },
  {
   "cell_type": "code",
   "execution_count": 74,
   "id": "0f174068",
   "metadata": {},
   "outputs": [],
   "source": [
    "scaler = preprocessing.StandardScaler()"
   ]
  },
  {
   "cell_type": "code",
   "execution_count": 75,
   "id": "bc99e089",
   "metadata": {},
   "outputs": [],
   "source": [
    "ds = scaler.fit_transform(dfModel[numericas])"
   ]
  },
  {
   "cell_type": "code",
   "execution_count": 76,
   "id": "bd77efdc",
   "metadata": {},
   "outputs": [],
   "source": [
    "ds = pd.DataFrame(ds, columns=numericas)"
   ]
  },
  {
   "cell_type": "code",
   "execution_count": 77,
   "id": "8044d1df",
   "metadata": {},
   "outputs": [],
   "source": [
    "dfModel.drop(numericas, axis=1, inplace=True)"
   ]
  },
  {
   "cell_type": "code",
   "execution_count": 78,
   "id": "039aaeba",
   "metadata": {},
   "outputs": [],
   "source": [
    "dfModel = pd.concat([dfModel, ds], axis=1)"
   ]
  },
  {
   "cell_type": "code",
   "execution_count": 79,
   "id": "ca3cb49a",
   "metadata": {},
   "outputs": [],
   "source": [
    "dfModel.drop(['customerID'], axis=1, inplace = True)"
   ]
  },
  {
   "cell_type": "code",
   "execution_count": 80,
   "id": "d8c7c92d",
   "metadata": {},
   "outputs": [
    {
     "data": {
      "text/html": [
       "<div>\n",
       "<style scoped>\n",
       "    .dataframe tbody tr th:only-of-type {\n",
       "        vertical-align: middle;\n",
       "    }\n",
       "\n",
       "    .dataframe tbody tr th {\n",
       "        vertical-align: top;\n",
       "    }\n",
       "\n",
       "    .dataframe thead th {\n",
       "        text-align: right;\n",
       "    }\n",
       "</style>\n",
       "<table border=\"1\" class=\"dataframe\">\n",
       "  <thead>\n",
       "    <tr style=\"text-align: right;\">\n",
       "      <th></th>\n",
       "      <th>Churn</th>\n",
       "      <th>Female</th>\n",
       "      <th>Male</th>\n",
       "      <th>0</th>\n",
       "      <th>1</th>\n",
       "      <th>No</th>\n",
       "      <th>Yes</th>\n",
       "      <th>No</th>\n",
       "      <th>Yes</th>\n",
       "      <th>No</th>\n",
       "      <th>Yes</th>\n",
       "      <th>No</th>\n",
       "      <th>Yes</th>\n",
       "      <th>DSL</th>\n",
       "      <th>Fiber optic</th>\n",
       "      <th>No</th>\n",
       "      <th>No</th>\n",
       "      <th>Yes</th>\n",
       "      <th>No</th>\n",
       "      <th>Yes</th>\n",
       "      <th>No</th>\n",
       "      <th>Yes</th>\n",
       "      <th>No</th>\n",
       "      <th>Yes</th>\n",
       "      <th>No</th>\n",
       "      <th>Yes</th>\n",
       "      <th>No</th>\n",
       "      <th>Yes</th>\n",
       "      <th>Month-to-month</th>\n",
       "      <th>One year</th>\n",
       "      <th>Two year</th>\n",
       "      <th>No</th>\n",
       "      <th>Yes</th>\n",
       "      <th>Bank transfer (automatic)</th>\n",
       "      <th>Credit card (automatic)</th>\n",
       "      <th>Electronic check</th>\n",
       "      <th>Mailed check</th>\n",
       "      <th>tenure</th>\n",
       "      <th>MonthlyCharges</th>\n",
       "      <th>TotalCharges</th>\n",
       "    </tr>\n",
       "  </thead>\n",
       "  <tbody>\n",
       "    <tr>\n",
       "      <th>0</th>\n",
       "      <td>0</td>\n",
       "      <td>1</td>\n",
       "      <td>0</td>\n",
       "      <td>1</td>\n",
       "      <td>0</td>\n",
       "      <td>0</td>\n",
       "      <td>1</td>\n",
       "      <td>1</td>\n",
       "      <td>0</td>\n",
       "      <td>1</td>\n",
       "      <td>0</td>\n",
       "      <td>1</td>\n",
       "      <td>0</td>\n",
       "      <td>1</td>\n",
       "      <td>0</td>\n",
       "      <td>0</td>\n",
       "      <td>1</td>\n",
       "      <td>0</td>\n",
       "      <td>0</td>\n",
       "      <td>1</td>\n",
       "      <td>1</td>\n",
       "      <td>0</td>\n",
       "      <td>1</td>\n",
       "      <td>0</td>\n",
       "      <td>1</td>\n",
       "      <td>0</td>\n",
       "      <td>1</td>\n",
       "      <td>0</td>\n",
       "      <td>1</td>\n",
       "      <td>0</td>\n",
       "      <td>0</td>\n",
       "      <td>0</td>\n",
       "      <td>1</td>\n",
       "      <td>0</td>\n",
       "      <td>0</td>\n",
       "      <td>1</td>\n",
       "      <td>0</td>\n",
       "      <td>-1.277445</td>\n",
       "      <td>-1.160323</td>\n",
       "      <td>-0.992611</td>\n",
       "    </tr>\n",
       "    <tr>\n",
       "      <th>1</th>\n",
       "      <td>0</td>\n",
       "      <td>0</td>\n",
       "      <td>1</td>\n",
       "      <td>1</td>\n",
       "      <td>0</td>\n",
       "      <td>1</td>\n",
       "      <td>0</td>\n",
       "      <td>1</td>\n",
       "      <td>0</td>\n",
       "      <td>0</td>\n",
       "      <td>1</td>\n",
       "      <td>1</td>\n",
       "      <td>0</td>\n",
       "      <td>1</td>\n",
       "      <td>0</td>\n",
       "      <td>0</td>\n",
       "      <td>0</td>\n",
       "      <td>1</td>\n",
       "      <td>1</td>\n",
       "      <td>0</td>\n",
       "      <td>0</td>\n",
       "      <td>1</td>\n",
       "      <td>1</td>\n",
       "      <td>0</td>\n",
       "      <td>1</td>\n",
       "      <td>0</td>\n",
       "      <td>1</td>\n",
       "      <td>0</td>\n",
       "      <td>0</td>\n",
       "      <td>1</td>\n",
       "      <td>0</td>\n",
       "      <td>1</td>\n",
       "      <td>0</td>\n",
       "      <td>0</td>\n",
       "      <td>0</td>\n",
       "      <td>0</td>\n",
       "      <td>1</td>\n",
       "      <td>0.066327</td>\n",
       "      <td>-0.259629</td>\n",
       "      <td>-0.172165</td>\n",
       "    </tr>\n",
       "    <tr>\n",
       "      <th>2</th>\n",
       "      <td>1</td>\n",
       "      <td>0</td>\n",
       "      <td>1</td>\n",
       "      <td>1</td>\n",
       "      <td>0</td>\n",
       "      <td>1</td>\n",
       "      <td>0</td>\n",
       "      <td>1</td>\n",
       "      <td>0</td>\n",
       "      <td>0</td>\n",
       "      <td>1</td>\n",
       "      <td>1</td>\n",
       "      <td>0</td>\n",
       "      <td>1</td>\n",
       "      <td>0</td>\n",
       "      <td>0</td>\n",
       "      <td>0</td>\n",
       "      <td>1</td>\n",
       "      <td>0</td>\n",
       "      <td>1</td>\n",
       "      <td>1</td>\n",
       "      <td>0</td>\n",
       "      <td>1</td>\n",
       "      <td>0</td>\n",
       "      <td>1</td>\n",
       "      <td>0</td>\n",
       "      <td>1</td>\n",
       "      <td>0</td>\n",
       "      <td>1</td>\n",
       "      <td>0</td>\n",
       "      <td>0</td>\n",
       "      <td>0</td>\n",
       "      <td>1</td>\n",
       "      <td>0</td>\n",
       "      <td>0</td>\n",
       "      <td>0</td>\n",
       "      <td>1</td>\n",
       "      <td>-1.236724</td>\n",
       "      <td>-0.362660</td>\n",
       "      <td>-0.958066</td>\n",
       "    </tr>\n",
       "  </tbody>\n",
       "</table>\n",
       "</div>"
      ],
      "text/plain": [
       "   Churn  Female  Male  0  1  No  Yes  No  Yes  No  Yes  No  Yes  DSL  \\\n",
       "0      0       1     0  1  0   0    1   1    0   1    0   1    0    1   \n",
       "1      0       0     1  1  0   1    0   1    0   0    1   1    0    1   \n",
       "2      1       0     1  1  0   1    0   1    0   0    1   1    0    1   \n",
       "\n",
       "   Fiber optic  No  No  Yes  No  Yes  No  Yes  No  Yes  No  Yes  No  Yes  \\\n",
       "0            0   0   1    0   0    1   1    0   1    0   1    0   1    0   \n",
       "1            0   0   0    1   1    0   0    1   1    0   1    0   1    0   \n",
       "2            0   0   0    1   0    1   1    0   1    0   1    0   1    0   \n",
       "\n",
       "   Month-to-month  One year  Two year  No  Yes  Bank transfer (automatic)  \\\n",
       "0               1         0         0   0    1                          0   \n",
       "1               0         1         0   1    0                          0   \n",
       "2               1         0         0   0    1                          0   \n",
       "\n",
       "   Credit card (automatic)  Electronic check  Mailed check    tenure  \\\n",
       "0                        0                 1             0 -1.277445   \n",
       "1                        0                 0             1  0.066327   \n",
       "2                        0                 0             1 -1.236724   \n",
       "\n",
       "   MonthlyCharges  TotalCharges  \n",
       "0       -1.160323     -0.992611  \n",
       "1       -0.259629     -0.172165  \n",
       "2       -0.362660     -0.958066  "
      ]
     },
     "execution_count": 80,
     "metadata": {},
     "output_type": "execute_result"
    }
   ],
   "source": [
    "dfModel.head(3)"
   ]
  },
  {
   "cell_type": "markdown",
   "id": "f5030eed",
   "metadata": {},
   "source": [
    "De esta manera, se procede a realizar la creación del modelo. Primero, se empleará la regresión logística."
   ]
  },
  {
   "cell_type": "markdown",
   "id": "960943d4",
   "metadata": {},
   "source": [
    "## Regresión logística"
   ]
  },
  {
   "cell_type": "code",
   "execution_count": 81,
   "id": "781c0742",
   "metadata": {},
   "outputs": [],
   "source": [
    "X = dfModel.drop(['Churn'],axis=1).values\n",
    "y = dfModel['Churn'].values"
   ]
  },
  {
   "cell_type": "code",
   "execution_count": 82,
   "id": "e960b9ff",
   "metadata": {},
   "outputs": [],
   "source": [
    "X_train, X_test, y_train, y_test = train_test_split(X, y, test_size=0.2 , random_state=42)"
   ]
  },
  {
   "cell_type": "code",
   "execution_count": 83,
   "id": "dd4f1afa",
   "metadata": {},
   "outputs": [],
   "source": [
    "lr = LogisticRegression(penalty = 'l2', solver = 'liblinear')"
   ]
  },
  {
   "cell_type": "code",
   "execution_count": 84,
   "id": "eb192cc8",
   "metadata": {},
   "outputs": [
    {
     "data": {
      "text/html": [
       "<style>#sk-container-id-1 {color: black;background-color: white;}#sk-container-id-1 pre{padding: 0;}#sk-container-id-1 div.sk-toggleable {background-color: white;}#sk-container-id-1 label.sk-toggleable__label {cursor: pointer;display: block;width: 100%;margin-bottom: 0;padding: 0.3em;box-sizing: border-box;text-align: center;}#sk-container-id-1 label.sk-toggleable__label-arrow:before {content: \"▸\";float: left;margin-right: 0.25em;color: #696969;}#sk-container-id-1 label.sk-toggleable__label-arrow:hover:before {color: black;}#sk-container-id-1 div.sk-estimator:hover label.sk-toggleable__label-arrow:before {color: black;}#sk-container-id-1 div.sk-toggleable__content {max-height: 0;max-width: 0;overflow: hidden;text-align: left;background-color: #f0f8ff;}#sk-container-id-1 div.sk-toggleable__content pre {margin: 0.2em;color: black;border-radius: 0.25em;background-color: #f0f8ff;}#sk-container-id-1 input.sk-toggleable__control:checked~div.sk-toggleable__content {max-height: 200px;max-width: 100%;overflow: auto;}#sk-container-id-1 input.sk-toggleable__control:checked~label.sk-toggleable__label-arrow:before {content: \"▾\";}#sk-container-id-1 div.sk-estimator input.sk-toggleable__control:checked~label.sk-toggleable__label {background-color: #d4ebff;}#sk-container-id-1 div.sk-label input.sk-toggleable__control:checked~label.sk-toggleable__label {background-color: #d4ebff;}#sk-container-id-1 input.sk-hidden--visually {border: 0;clip: rect(1px 1px 1px 1px);clip: rect(1px, 1px, 1px, 1px);height: 1px;margin: -1px;overflow: hidden;padding: 0;position: absolute;width: 1px;}#sk-container-id-1 div.sk-estimator {font-family: monospace;background-color: #f0f8ff;border: 1px dotted black;border-radius: 0.25em;box-sizing: border-box;margin-bottom: 0.5em;}#sk-container-id-1 div.sk-estimator:hover {background-color: #d4ebff;}#sk-container-id-1 div.sk-parallel-item::after {content: \"\";width: 100%;border-bottom: 1px solid gray;flex-grow: 1;}#sk-container-id-1 div.sk-label:hover label.sk-toggleable__label {background-color: #d4ebff;}#sk-container-id-1 div.sk-serial::before {content: \"\";position: absolute;border-left: 1px solid gray;box-sizing: border-box;top: 0;bottom: 0;left: 50%;z-index: 0;}#sk-container-id-1 div.sk-serial {display: flex;flex-direction: column;align-items: center;background-color: white;padding-right: 0.2em;padding-left: 0.2em;position: relative;}#sk-container-id-1 div.sk-item {position: relative;z-index: 1;}#sk-container-id-1 div.sk-parallel {display: flex;align-items: stretch;justify-content: center;background-color: white;position: relative;}#sk-container-id-1 div.sk-item::before, #sk-container-id-1 div.sk-parallel-item::before {content: \"\";position: absolute;border-left: 1px solid gray;box-sizing: border-box;top: 0;bottom: 0;left: 50%;z-index: -1;}#sk-container-id-1 div.sk-parallel-item {display: flex;flex-direction: column;z-index: 1;position: relative;background-color: white;}#sk-container-id-1 div.sk-parallel-item:first-child::after {align-self: flex-end;width: 50%;}#sk-container-id-1 div.sk-parallel-item:last-child::after {align-self: flex-start;width: 50%;}#sk-container-id-1 div.sk-parallel-item:only-child::after {width: 0;}#sk-container-id-1 div.sk-dashed-wrapped {border: 1px dashed gray;margin: 0 0.4em 0.5em 0.4em;box-sizing: border-box;padding-bottom: 0.4em;background-color: white;}#sk-container-id-1 div.sk-label label {font-family: monospace;font-weight: bold;display: inline-block;line-height: 1.2em;}#sk-container-id-1 div.sk-label-container {text-align: center;}#sk-container-id-1 div.sk-container {/* jupyter's `normalize.less` sets `[hidden] { display: none; }` but bootstrap.min.css set `[hidden] { display: none !important; }` so we also need the `!important` here to be able to override the default hidden behavior on the sphinx rendered scikit-learn.org. See: https://github.com/scikit-learn/scikit-learn/issues/21755 */display: inline-block !important;position: relative;}#sk-container-id-1 div.sk-text-repr-fallback {display: none;}</style><div id=\"sk-container-id-1\" class=\"sk-top-container\"><div class=\"sk-text-repr-fallback\"><pre>LogisticRegression(solver=&#x27;liblinear&#x27;)</pre><b>In a Jupyter environment, please rerun this cell to show the HTML representation or trust the notebook. <br />On GitHub, the HTML representation is unable to render, please try loading this page with nbviewer.org.</b></div><div class=\"sk-container\" hidden><div class=\"sk-item\"><div class=\"sk-estimator sk-toggleable\"><input class=\"sk-toggleable__control sk-hidden--visually\" id=\"sk-estimator-id-1\" type=\"checkbox\" checked><label for=\"sk-estimator-id-1\" class=\"sk-toggleable__label sk-toggleable__label-arrow\">LogisticRegression</label><div class=\"sk-toggleable__content\"><pre>LogisticRegression(solver=&#x27;liblinear&#x27;)</pre></div></div></div></div></div>"
      ],
      "text/plain": [
       "LogisticRegression(solver='liblinear')"
      ]
     },
     "execution_count": 84,
     "metadata": {},
     "output_type": "execute_result"
    }
   ],
   "source": [
    "lr.fit(X_train, y_train)"
   ]
  },
  {
   "cell_type": "code",
   "execution_count": 85,
   "id": "8270f6f9",
   "metadata": {},
   "outputs": [],
   "source": [
    "y_pred = lr.predict(X_test)"
   ]
  },
  {
   "cell_type": "code",
   "execution_count": 86,
   "id": "22c9e70d",
   "metadata": {},
   "outputs": [
    {
     "data": {
      "text/plain": [
       "0.8218594748048261"
      ]
     },
     "execution_count": 86,
     "metadata": {},
     "output_type": "execute_result"
    }
   ],
   "source": [
    "metrics.accuracy_score(y_pred, y_test)"
   ]
  },
  {
   "cell_type": "code",
   "execution_count": 87,
   "id": "cba8a61d",
   "metadata": {},
   "outputs": [],
   "source": [
    "lr2 = LogisticRegression(penalty = 'l1', solver = 'liblinear')"
   ]
  },
  {
   "cell_type": "code",
   "execution_count": 88,
   "id": "01e83413",
   "metadata": {},
   "outputs": [
    {
     "data": {
      "text/html": [
       "<style>#sk-container-id-2 {color: black;background-color: white;}#sk-container-id-2 pre{padding: 0;}#sk-container-id-2 div.sk-toggleable {background-color: white;}#sk-container-id-2 label.sk-toggleable__label {cursor: pointer;display: block;width: 100%;margin-bottom: 0;padding: 0.3em;box-sizing: border-box;text-align: center;}#sk-container-id-2 label.sk-toggleable__label-arrow:before {content: \"▸\";float: left;margin-right: 0.25em;color: #696969;}#sk-container-id-2 label.sk-toggleable__label-arrow:hover:before {color: black;}#sk-container-id-2 div.sk-estimator:hover label.sk-toggleable__label-arrow:before {color: black;}#sk-container-id-2 div.sk-toggleable__content {max-height: 0;max-width: 0;overflow: hidden;text-align: left;background-color: #f0f8ff;}#sk-container-id-2 div.sk-toggleable__content pre {margin: 0.2em;color: black;border-radius: 0.25em;background-color: #f0f8ff;}#sk-container-id-2 input.sk-toggleable__control:checked~div.sk-toggleable__content {max-height: 200px;max-width: 100%;overflow: auto;}#sk-container-id-2 input.sk-toggleable__control:checked~label.sk-toggleable__label-arrow:before {content: \"▾\";}#sk-container-id-2 div.sk-estimator input.sk-toggleable__control:checked~label.sk-toggleable__label {background-color: #d4ebff;}#sk-container-id-2 div.sk-label input.sk-toggleable__control:checked~label.sk-toggleable__label {background-color: #d4ebff;}#sk-container-id-2 input.sk-hidden--visually {border: 0;clip: rect(1px 1px 1px 1px);clip: rect(1px, 1px, 1px, 1px);height: 1px;margin: -1px;overflow: hidden;padding: 0;position: absolute;width: 1px;}#sk-container-id-2 div.sk-estimator {font-family: monospace;background-color: #f0f8ff;border: 1px dotted black;border-radius: 0.25em;box-sizing: border-box;margin-bottom: 0.5em;}#sk-container-id-2 div.sk-estimator:hover {background-color: #d4ebff;}#sk-container-id-2 div.sk-parallel-item::after {content: \"\";width: 100%;border-bottom: 1px solid gray;flex-grow: 1;}#sk-container-id-2 div.sk-label:hover label.sk-toggleable__label {background-color: #d4ebff;}#sk-container-id-2 div.sk-serial::before {content: \"\";position: absolute;border-left: 1px solid gray;box-sizing: border-box;top: 0;bottom: 0;left: 50%;z-index: 0;}#sk-container-id-2 div.sk-serial {display: flex;flex-direction: column;align-items: center;background-color: white;padding-right: 0.2em;padding-left: 0.2em;position: relative;}#sk-container-id-2 div.sk-item {position: relative;z-index: 1;}#sk-container-id-2 div.sk-parallel {display: flex;align-items: stretch;justify-content: center;background-color: white;position: relative;}#sk-container-id-2 div.sk-item::before, #sk-container-id-2 div.sk-parallel-item::before {content: \"\";position: absolute;border-left: 1px solid gray;box-sizing: border-box;top: 0;bottom: 0;left: 50%;z-index: -1;}#sk-container-id-2 div.sk-parallel-item {display: flex;flex-direction: column;z-index: 1;position: relative;background-color: white;}#sk-container-id-2 div.sk-parallel-item:first-child::after {align-self: flex-end;width: 50%;}#sk-container-id-2 div.sk-parallel-item:last-child::after {align-self: flex-start;width: 50%;}#sk-container-id-2 div.sk-parallel-item:only-child::after {width: 0;}#sk-container-id-2 div.sk-dashed-wrapped {border: 1px dashed gray;margin: 0 0.4em 0.5em 0.4em;box-sizing: border-box;padding-bottom: 0.4em;background-color: white;}#sk-container-id-2 div.sk-label label {font-family: monospace;font-weight: bold;display: inline-block;line-height: 1.2em;}#sk-container-id-2 div.sk-label-container {text-align: center;}#sk-container-id-2 div.sk-container {/* jupyter's `normalize.less` sets `[hidden] { display: none; }` but bootstrap.min.css set `[hidden] { display: none !important; }` so we also need the `!important` here to be able to override the default hidden behavior on the sphinx rendered scikit-learn.org. See: https://github.com/scikit-learn/scikit-learn/issues/21755 */display: inline-block !important;position: relative;}#sk-container-id-2 div.sk-text-repr-fallback {display: none;}</style><div id=\"sk-container-id-2\" class=\"sk-top-container\"><div class=\"sk-text-repr-fallback\"><pre>LogisticRegression(penalty=&#x27;l1&#x27;, solver=&#x27;liblinear&#x27;)</pre><b>In a Jupyter environment, please rerun this cell to show the HTML representation or trust the notebook. <br />On GitHub, the HTML representation is unable to render, please try loading this page with nbviewer.org.</b></div><div class=\"sk-container\" hidden><div class=\"sk-item\"><div class=\"sk-estimator sk-toggleable\"><input class=\"sk-toggleable__control sk-hidden--visually\" id=\"sk-estimator-id-2\" type=\"checkbox\" checked><label for=\"sk-estimator-id-2\" class=\"sk-toggleable__label sk-toggleable__label-arrow\">LogisticRegression</label><div class=\"sk-toggleable__content\"><pre>LogisticRegression(penalty=&#x27;l1&#x27;, solver=&#x27;liblinear&#x27;)</pre></div></div></div></div></div>"
      ],
      "text/plain": [
       "LogisticRegression(penalty='l1', solver='liblinear')"
      ]
     },
     "execution_count": 88,
     "metadata": {},
     "output_type": "execute_result"
    }
   ],
   "source": [
    "lr2.fit(X_train, y_train)"
   ]
  },
  {
   "cell_type": "code",
   "execution_count": 89,
   "id": "70a2dc60",
   "metadata": {},
   "outputs": [],
   "source": [
    "y_pred2 = lr2.predict(X_test)"
   ]
  },
  {
   "cell_type": "code",
   "execution_count": 90,
   "id": "b6463b37",
   "metadata": {},
   "outputs": [
    {
     "data": {
      "text/plain": [
       "0.8225691980127751"
      ]
     },
     "execution_count": 90,
     "metadata": {},
     "output_type": "execute_result"
    }
   ],
   "source": [
    "metrics.accuracy_score(y_test, y_pred2)"
   ]
  },
  {
   "cell_type": "markdown",
   "id": "98bdc3b0",
   "metadata": {},
   "source": [
    "Uno de los problemas que puede haber en la creación de un modelo es el sobreajuste (overfitting), para esto, se emplea la regularización, penalizando a los coeficientes del mismo. En el primer caso, se empleó l2 (penalización Ridge), que presentó una exactitud (accuracy) de ~0.822, no obstante, al usar l1 (penalización Lasso), el modelo presenta una leve mejora."
   ]
  },
  {
   "cell_type": "markdown",
   "id": "d4b6b237",
   "metadata": {},
   "source": [
    "### Matriz de confusión"
   ]
  },
  {
   "cell_type": "code",
   "execution_count": 91,
   "id": "0dba3503",
   "metadata": {},
   "outputs": [
    {
     "data": {
      "text/plain": [
       "array([[935, 101],\n",
       "       [149, 224]], dtype=int64)"
      ]
     },
     "execution_count": 91,
     "metadata": {},
     "output_type": "execute_result"
    }
   ],
   "source": [
    "metrics.confusion_matrix(y_test, y_pred2)"
   ]
  },
  {
   "cell_type": "markdown",
   "id": "bf2790fa",
   "metadata": {},
   "source": [
    "El umbrar asumido para este modelo es de 0.5, esto significa que cualquier muestra con una probabilidad prevista de al menos 0.5 puede identificarse como positiva (en este caso, favorable a la tasa de abandono) y cualquier muestra con una probabilidad prevista menos a este valor se considera negativa. "
   ]
  },
  {
   "cell_type": "code",
   "execution_count": 92,
   "id": "6cb71928",
   "metadata": {},
   "outputs": [],
   "source": [
    "y_pred_proba = lr2.predict_proba(X_test)"
   ]
  },
  {
   "cell_type": "code",
   "execution_count": 93,
   "id": "69c990ec",
   "metadata": {},
   "outputs": [],
   "source": [
    "prob_sum = np.sum(y_pred_proba,1)"
   ]
  },
  {
   "cell_type": "code",
   "execution_count": 94,
   "id": "6a73d23e",
   "metadata": {},
   "outputs": [
    {
     "data": {
      "text/plain": [
       "(1409,)"
      ]
     },
     "execution_count": 94,
     "metadata": {},
     "output_type": "execute_result"
    }
   ],
   "source": [
    "prob_sum.shape"
   ]
  },
  {
   "cell_type": "code",
   "execution_count": 95,
   "id": "09de252e",
   "metadata": {},
   "outputs": [],
   "source": [
    "pos_proba = y_pred_proba[:,1]"
   ]
  },
  {
   "cell_type": "code",
   "execution_count": 96,
   "id": "d6907355",
   "metadata": {},
   "outputs": [
    {
     "data": {
      "image/png": "[encoded data removed]",
      "text/plain": [
       "<Figure size 640x480 with 1 Axes>"
      ]
     },
     "metadata": {},
     "output_type": "display_data"
    }
   ],
   "source": [
    "plt.hist(pos_proba)\n",
    "plt.title('Gráfico 22: Probabilidades pronosticadas')\n",
    "plt.xlabel('Probabilidades')\n",
    "plt.ylabel('Frecuencia')\n",
    "plt.show()"
   ]
  },
  {
   "cell_type": "markdown",
   "id": "4344cae7",
   "metadata": {},
   "source": [
    "En el gráfico puede observarse que la mayoría de las probabilidades pronosticadas están por debajo del umbral determinado anteriormente. Entonces, bajar el umbral podría mejorar el rendimiento del clasificador."
   ]
  },
  {
   "cell_type": "code",
   "execution_count": 97,
   "id": "c71c2e86",
   "metadata": {},
   "outputs": [],
   "source": [
    "pos_sample_pos_proba = pos_proba[y_test==1]\n",
    "neg_sample_pos_proba = pos_proba[y_test==0]"
   ]
  },
  {
   "cell_type": "code",
   "execution_count": 98,
   "id": "76fa5d3f",
   "metadata": {},
   "outputs": [
    {
     "data": {
      "image/png": "[encoded data removed]",
      "text/plain": [
       "<Figure size 640x480 with 1 Axes>"
      ]
     },
     "metadata": {},
     "output_type": "display_data"
    }
   ],
   "source": [
    "plt.hist([pos_sample_pos_proba, neg_sample_pos_proba], histtype='barstacked')\n",
    "plt.legend(['Muestras positivas', 'Muestras negativas'])\n",
    "plt.title('Gráfico 23: Probabilidades de muestras positiva y negativa')\n",
    "plt.xlabel('Probabilidad prevista de clase positiva')\n",
    "plt.ylabel('Número de muestras')\n",
    "plt.show()"
   ]
  },
  {
   "cell_type": "markdown",
   "id": "a87753b3",
   "metadata": {},
   "source": [
    "La gráfica anterior muestra las etiquetas verdaderas de las muestras para cada probabilidad predicha. Si bien es cierto, reducir el umbral parecería ser una opción factible, casi todas las muestras ubicadas en la sección izquierda son muestras negativas, entonces, al emplear un umbral menor, esto podría disminuir el rendimiento del modelo. Un método que permite visualizar y determinar si la reducción del umbral sería una opción correcta es la curva ROC."
   ]
  },
  {
   "cell_type": "code",
   "execution_count": 99,
   "id": "fae6644e",
   "metadata": {},
   "outputs": [],
   "source": [
    "fpr, tpr, umbrales = metrics.roc_curve(y_test, pos_proba)"
   ]
  },
  {
   "cell_type": "code",
   "execution_count": 100,
   "id": "8e2dbd51",
   "metadata": {},
   "outputs": [
    {
     "data": {
      "image/png": "[encoded data removed]",
      "text/plain": [
       "<Figure size 640x480 with 1 Axes>"
      ]
     },
     "metadata": {},
     "output_type": "display_data"
    }
   ],
   "source": [
    "plt.plot(fpr, tpr, '*-')\n",
    "plt.plot([0, 1], [0, 1], 'r--')\n",
    "plt.legend(['Regresión logística', 'Clasificador'])\n",
    "plt.title('Gráfico 24: Curva ROC')\n",
    "plt.xlabel('Tasa de falsos positivos (FPR)')\n",
    "plt.ylabel('Tasa de verdaderos positivos (TPR)')\n",
    "plt.show()"
   ]
  },
  {
   "cell_type": "markdown",
   "id": "d6b15043",
   "metadata": {},
   "source": [
    "De esta manera, es evidente que emplear un umbral de 0.5 es aceptable en el clasificador creado, puesto que, la curva ROC tiende a  acercarse a un clasificador de alto rendimiento."
   ]
  },
  {
   "cell_type": "code",
   "execution_count": 101,
   "id": "a9c04b57",
   "metadata": {
    "scrolled": true
   },
   "outputs": [
    {
     "data": {
      "text/plain": [
       "array([1.84213736e+00, 8.42137361e-01, 8.17458288e-01, 8.13618434e-01,\n",
       "       7.87793437e-01, 7.84497127e-01, 7.68700092e-01, 7.68201840e-01,\n",
       "       7.63499018e-01, 7.62574132e-01, 7.61226357e-01, 7.56458964e-01,\n",
       "       7.55150756e-01, 7.51564694e-01, 7.37201188e-01, 7.37095428e-01,\n",
       "       7.35975670e-01, 7.35665684e-01, 7.35487291e-01, 7.34287832e-01,\n",
       "       7.34068088e-01, 7.32893069e-01, 7.22837951e-01, 7.22179622e-01,\n",
       "       7.20091719e-01, 7.19194979e-01, 7.16389532e-01, 7.15902043e-01,\n",
       "       7.13178120e-01, 7.12966865e-01, 7.04012241e-01, 7.02462166e-01,\n",
       "       6.99179058e-01, 6.97406440e-01, 6.91493942e-01, 6.91455426e-01,\n",
       "       6.90954661e-01, 6.89844294e-01, 6.89666930e-01, 6.89579147e-01,\n",
       "       6.87014283e-01, 6.80673373e-01, 6.78393798e-01, 6.77336809e-01,\n",
       "       6.76798128e-01, 6.75415954e-01, 6.74568439e-01, 6.73890140e-01,\n",
       "       6.71668973e-01, 6.68569931e-01, 6.64039425e-01, 6.61814326e-01,\n",
       "       6.60779655e-01, 6.58778466e-01, 6.53242509e-01, 6.52529627e-01,\n",
       "       6.51539027e-01, 6.48383339e-01, 6.47106112e-01, 6.46158843e-01,\n",
       "       6.37182771e-01, 6.36616732e-01, 6.32607908e-01, 6.29476053e-01,\n",
       "       6.22194828e-01, 6.21234635e-01, 6.19942359e-01, 6.19074593e-01,\n",
       "       6.15319317e-01, 6.14284762e-01, 6.11597595e-01, 6.11303169e-01,\n",
       "       6.07756928e-01, 6.07464593e-01, 6.05793227e-01, 6.02737371e-01,\n",
       "       5.99605101e-01, 5.98686281e-01, 5.89736702e-01, 5.84535621e-01,\n",
       "       5.84216086e-01, 5.79861046e-01, 5.76504872e-01, 5.75608539e-01,\n",
       "       5.75437698e-01, 5.74959059e-01, 5.73626594e-01, 5.73445999e-01,\n",
       "       5.69436696e-01, 5.67079191e-01, 5.64301387e-01, 5.60891971e-01,\n",
       "       5.60218511e-01, 5.59818698e-01, 5.58990076e-01, 5.58663539e-01,\n",
       "       5.57403000e-01, 5.57087819e-01, 5.56984994e-01, 5.54412196e-01,\n",
       "       5.50749476e-01, 5.48153141e-01, 5.46854504e-01, 5.46708847e-01,\n",
       "       5.43624551e-01, 5.43393656e-01, 5.40096340e-01, 5.40073042e-01,\n",
       "       5.38021374e-01, 5.37832239e-01, 5.35719625e-01, 5.34570016e-01,\n",
       "       5.32889162e-01, 5.29931263e-01, 5.25467180e-01, 5.24100342e-01,\n",
       "       5.23510585e-01, 5.22253687e-01, 5.21653475e-01, 5.17230284e-01,\n",
       "       5.16504598e-01, 5.16447649e-01, 5.15726468e-01, 5.13290096e-01,\n",
       "       5.11356157e-01, 5.08323130e-01, 5.08060176e-01, 5.04372415e-01,\n",
       "       4.99748039e-01, 4.97787652e-01, 4.95822189e-01, 4.94060916e-01,\n",
       "       4.93193772e-01, 4.88986932e-01, 4.87676205e-01, 4.86746583e-01,\n",
       "       4.83106818e-01, 4.81365354e-01, 4.80186422e-01, 4.80070842e-01,\n",
       "       4.77543595e-01, 4.75219346e-01, 4.74921007e-01, 4.65468522e-01,\n",
       "       4.64315497e-01, 4.58007557e-01, 4.56303115e-01, 4.42744291e-01,\n",
       "       4.42669311e-01, 4.39502987e-01, 4.38871933e-01, 4.38595498e-01,\n",
       "       4.34238671e-01, 4.33343984e-01, 4.32995408e-01, 4.29789399e-01,\n",
       "       4.29349235e-01, 4.28514372e-01, 4.26914863e-01, 4.26660884e-01,\n",
       "       4.26643500e-01, 4.26633040e-01, 4.26598517e-01, 4.25490457e-01,\n",
       "       4.25166122e-01, 4.23376548e-01, 4.22176944e-01, 4.21686520e-01,\n",
       "       4.21263149e-01, 4.20535078e-01, 4.19395426e-01, 4.17696132e-01,\n",
       "       4.15193032e-01, 4.12962791e-01, 4.12162088e-01, 4.09881965e-01,\n",
       "       4.08682618e-01, 4.08627961e-01, 4.03334584e-01, 3.97909065e-01,\n",
       "       3.95204130e-01, 3.93237992e-01, 3.90536881e-01, 3.88847016e-01,\n",
       "       3.87051821e-01, 3.84307003e-01, 3.83426317e-01, 3.81184871e-01,\n",
       "       3.80891890e-01, 3.80355925e-01, 3.78150024e-01, 3.68962912e-01,\n",
       "       3.67805551e-01, 3.62763527e-01, 3.61307441e-01, 3.54200728e-01,\n",
       "       3.48657052e-01, 3.47859451e-01, 3.47682887e-01, 3.47672163e-01,\n",
       "       3.46979606e-01, 3.45579761e-01, 3.42448896e-01, 3.42396874e-01,\n",
       "       3.36924957e-01, 3.35945934e-01, 3.34619615e-01, 3.31280909e-01,\n",
       "       3.27303502e-01, 3.24243759e-01, 3.22200975e-01, 3.22096537e-01,\n",
       "       3.21963630e-01, 3.21852263e-01, 3.20961071e-01, 3.20813794e-01,\n",
       "       3.20210286e-01, 3.19517980e-01, 3.18853167e-01, 3.14893348e-01,\n",
       "       3.14852151e-01, 3.06013948e-01, 3.05706386e-01, 3.04504589e-01,\n",
       "       3.03242319e-01, 2.97397552e-01, 2.94531549e-01, 2.88701687e-01,\n",
       "       2.88572647e-01, 2.85171274e-01, 2.84095282e-01, 2.80915138e-01,\n",
       "       2.79910029e-01, 2.75008499e-01, 2.74842587e-01, 2.74727835e-01,\n",
       "       2.74348540e-01, 2.73940173e-01, 2.72515780e-01, 2.71265343e-01,\n",
       "       2.70966650e-01, 2.69668812e-01, 2.69115249e-01, 2.67727092e-01,\n",
       "       2.66650080e-01, 2.58846769e-01, 2.58294583e-01, 2.57569650e-01,\n",
       "       2.57383030e-01, 2.56991972e-01, 2.56705712e-01, 2.39814270e-01,\n",
       "       2.39705336e-01, 2.38607592e-01, 2.38316040e-01, 2.37067963e-01,\n",
       "       2.36292483e-01, 2.31872970e-01, 2.31802944e-01, 2.31006187e-01,\n",
       "       2.30809864e-01, 2.18842838e-01, 2.18188956e-01, 2.14315910e-01,\n",
       "       2.13976342e-01, 2.07931095e-01, 2.07475812e-01, 2.07452378e-01,\n",
       "       2.07440661e-01, 1.99628650e-01, 1.99607981e-01, 1.99582934e-01,\n",
       "       1.99580657e-01, 1.99578380e-01, 1.99571550e-01, 1.99564720e-01,\n",
       "       1.99560166e-01, 1.99555613e-01, 1.99553336e-01, 1.99482946e-01,\n",
       "       1.99044040e-01, 1.99030768e-01, 1.98956826e-01, 1.97308819e-01,\n",
       "       1.95709803e-01, 1.94024876e-01, 1.93213983e-01, 1.91504775e-01,\n",
       "       1.91482708e-01, 1.90930806e-01, 1.88663853e-01, 1.88584790e-01,\n",
       "       1.87433453e-01, 1.86665751e-01, 1.86254099e-01, 1.85438175e-01,\n",
       "       1.84567723e-01, 1.77475486e-01, 1.76923975e-01, 1.75560970e-01,\n",
       "       1.74390979e-01, 1.70184636e-01, 1.66200347e-01, 1.64420086e-01,\n",
       "       1.63757506e-01, 1.61673326e-01, 1.60895138e-01, 1.60117377e-01,\n",
       "       1.59921646e-01, 1.55239105e-01, 1.55018841e-01, 1.53974556e-01,\n",
       "       1.53754792e-01, 1.24655459e-01, 1.23689632e-01, 1.19522352e-01,\n",
       "       1.18965945e-01, 1.18291360e-01, 1.17995936e-01, 1.15007040e-01,\n",
       "       1.14973912e-01, 1.14821631e-01, 1.14430695e-01, 1.13460807e-01,\n",
       "       1.12462398e-01, 1.10829617e-01, 1.09938361e-01, 1.04572189e-01,\n",
       "       1.04493001e-01, 1.00728831e-01, 9.99591296e-02, 8.66263464e-02,\n",
       "       8.65046135e-02, 8.52813201e-02, 8.50339263e-02, 8.45818192e-02,\n",
       "       8.43275707e-02, 7.41176246e-02, 7.38578543e-02, 6.99379443e-02,\n",
       "       6.85753988e-02, 4.98719027e-02, 4.93043408e-02, 4.30993129e-02,\n",
       "       4.29875598e-02, 4.03635397e-02, 4.02488940e-02, 2.55026465e-02,\n",
       "       2.54484937e-02, 1.59055964e-02, 1.56532424e-02, 1.13966011e-02,\n",
       "       1.11572678e-02, 7.93766058e-03, 7.93305976e-03, 1.67659812e-03])"
      ]
     },
     "execution_count": 101,
     "metadata": {},
     "output_type": "execute_result"
    }
   ],
   "source": [
    "umbrales"
   ]
  },
  {
   "cell_type": "code",
   "execution_count": 102,
   "id": "cbf5df0a",
   "metadata": {},
   "outputs": [
    {
     "data": {
      "text/plain": [
       "0.8621826058153135"
      ]
     },
     "execution_count": 102,
     "metadata": {},
     "output_type": "execute_result"
    }
   ],
   "source": [
    "metrics.roc_auc_score(y_test, pos_proba)"
   ]
  },
  {
   "cell_type": "markdown",
   "id": "9e42fda5",
   "metadata": {},
   "source": [
    "El gráfico 24 denota una curva ROC (sensibilidad frente a la especificidad) aceptable, cuya curva se acerca a un clasificador perfecto. Al obtener este valor, el resultado muestra un 0.86. No obstante, aunque este valor resulte adecuado para el modelo, es necesario emplear otras métricas para su respectiva evaluación, por ejemplo, la precisión, que es la proporción de predicciones positivas que son correctas."
   ]
  },
  {
   "cell_type": "code",
   "execution_count": 103,
   "id": "041ed881",
   "metadata": {},
   "outputs": [
    {
     "data": {
      "text/plain": [
       "0.6892307692307692"
      ]
     },
     "execution_count": 103,
     "metadata": {},
     "output_type": "execute_result"
    }
   ],
   "source": [
    "metrics.precision_score(y_test, y_pred2)"
   ]
  },
  {
   "cell_type": "code",
   "execution_count": 104,
   "id": "10f91dd5",
   "metadata": {},
   "outputs": [
    {
     "data": {
      "text/plain": [
       "0.6418338108882521"
      ]
     },
     "execution_count": 104,
     "metadata": {},
     "output_type": "execute_result"
    }
   ],
   "source": [
    "metrics.f1_score(y_test, y_pred2)"
   ]
  },
  {
   "cell_type": "markdown",
   "id": "b0945c91",
   "metadata": {},
   "source": [
    "La precisión de nuestro modelo no refleja tanta diferencia con respecto a la exactitud. A pesar de que a mayor exactitud puede haber menos precisión, una métrica que mejora el entendimiento del modelo es F1 Score que combina ambas métricas mencionadas anteriormente. Esta métrica permite conocer cuál es el rendimiento de un modelo que posee datos no balanceados, como el del presente estudio. En este caso, la puntuación f1 de nuestro modelo, al emplear, la regresión logística, es de ~0.64."
   ]
  },
  {
   "cell_type": "code",
   "execution_count": 105,
   "id": "6054d050",
   "metadata": {},
   "outputs": [
    {
     "name": "stdout",
     "output_type": "stream",
     "text": [
      "              precision    recall  f1-score   support\n",
      "\n",
      "           0       0.86      0.90      0.88      1036\n",
      "           1       0.69      0.60      0.64       373\n",
      "\n",
      "    accuracy                           0.82      1409\n",
      "   macro avg       0.78      0.75      0.76      1409\n",
      "weighted avg       0.82      0.82      0.82      1409\n",
      "\n"
     ]
    }
   ],
   "source": [
    "print(metrics.classification_report(y_test, y_pred2))"
   ]
  },
  {
   "cell_type": "markdown",
   "id": "80f5ea89",
   "metadata": {},
   "source": [
    "A continuación, se procede a realizar la validación cruzada."
   ]
  },
  {
   "cell_type": "code",
   "execution_count": 106,
   "id": "55cf10bb",
   "metadata": {},
   "outputs": [],
   "source": [
    "training_score = cross_val_score(lr2, X_train, y_train, cv=5, scoring = \"precision\")"
   ]
  },
  {
   "cell_type": "code",
   "execution_count": 107,
   "id": "0c5c5407",
   "metadata": {},
   "outputs": [
    {
     "data": {
      "text/plain": [
       "65.0"
      ]
     },
     "execution_count": 107,
     "metadata": {},
     "output_type": "execute_result"
    }
   ],
   "source": [
    "round(training_score.mean(), 2) * 100"
   ]
  },
  {
   "cell_type": "markdown",
   "id": "c514ad01",
   "metadata": {},
   "source": [
    "Al aplicar validación cruzada, se evidencia una disminuición en el rendimiento del modelo, de acuerdo con la métrica de precisión. Cabe recalcar que, hasta el momento, se ha creado el modelo con datos que no se encuentran balanceados, por ende, se procede a balancear los mismos aplicando la técnica de sobremuestreo de minorías sintéticas (SMOTE). "
   ]
  },
  {
   "cell_type": "code",
   "execution_count": 108,
   "id": "8c6f0771",
   "metadata": {},
   "outputs": [],
   "source": [
    "over = SMOTE(sampling_strategy = 1)"
   ]
  },
  {
   "cell_type": "code",
   "execution_count": 109,
   "id": "e53c7763",
   "metadata": {},
   "outputs": [],
   "source": [
    "X, y = over.fit_resample(X, y)"
   ]
  },
  {
   "cell_type": "code",
   "execution_count": 110,
   "id": "c061a956",
   "metadata": {},
   "outputs": [
    {
     "data": {
      "text/plain": [
       "Counter({0: 5174, 1: 5174})"
      ]
     },
     "execution_count": 110,
     "metadata": {},
     "output_type": "execute_result"
    }
   ],
   "source": [
    "Counter(y)"
   ]
  },
  {
   "cell_type": "code",
   "execution_count": 111,
   "id": "cf1c30cf",
   "metadata": {},
   "outputs": [],
   "source": [
    "X_train, X_test, y_train, y_test = train_test_split(X, y, test_size = 0.20, random_state = 2)"
   ]
  },
  {
   "cell_type": "code",
   "execution_count": 112,
   "id": "f65b663c",
   "metadata": {},
   "outputs": [],
   "source": [
    "resultados = cross_validate(lr2, X, y, cv=10, scoring=[\"accuracy\", \"f1\", \"roc_auc\", \"precision\", \"recall\"])"
   ]
  },
  {
   "cell_type": "code",
   "execution_count": 114,
   "id": "1d1340c7",
   "metadata": {},
   "outputs": [
    {
     "name": "stdout",
     "output_type": "stream",
     "text": [
      "Exactitud: 0.7733\n",
      "AUC: 0.8553\n",
      "Precisión: 0.7517\n",
      "F1: 0.7826\n"
     ]
    }
   ],
   "source": [
    "print(f\"Exactitud: {round(resultados['test_accuracy'].mean(), 4)}\")\n",
    "print(f\"AUC: {round(resultados['test_roc_auc'].mean(), 4)}\")\n",
    "print(f\"Precisión: {round(resultados['test_precision'].mean(), 4)}\")\n",
    "print(f\"F1: {round(resultados['test_f1'].mean(), 4)}\")"
   ]
  },
  {
   "cell_type": "markdown",
   "id": "71915493",
   "metadata": {},
   "source": [
    "Una vez balanceados los datos, se evidencia que métricas como la exactitud presentan un decrecimiento, mas, el valor aun es óptimo y, al observar la puntuación F1, existe una notable mejora con respecto al modelo, lo que evidencia un buen rendimiento del mismo."
   ]
  },
  {
   "cell_type": "markdown",
   "id": "3d8dc21b",
   "metadata": {},
   "source": [
    "# Conclusiones"
   ]
  },
  {
   "cell_type": "markdown",
   "id": "fe03d061",
   "metadata": {},
   "source": [
    "<ul>\n",
    "    <li>El análisis exploratorio permitió evidenciar variables categóricas y numéricas, así como su relación con la variable de respuesta, la tasa de abandono. En cuanto a variables numéricas, resalta la variable relacionada a la permanencia e los clientes, la misma que posee una media de 32 meses. Algunas de las variables categóricas se encuentran limitadas por el servicio de telefonía y de internet que puede tener el cliente. Entre los conceptos estadísticos empleados están la tasa de riesgo y la información mutua, mediantes los cuales se identificó </li>\n",
    "    <li>El análisis bivariado permitió determinar aspectos referentes a la tasa de abandono, por ejemplo, en cuanto a los servicios, quienes no poseen servicios adicionales tienden a abandonar más que los que sí poseen. Algunas variables como el género y la existencia de múltiples líneas, no generan un impacto significativo para decir si el cliente abandonorá o no.</li>\n",
    "    <li>Se logró crear un modelo de regresión logística para predecir el abandono de los clientes. Este modelo aplicó regularización por medio de la penalización Lasso. Para esto, se empleó One Hot Encoding en las variables categóricas para poder tratarlas numéricamente, mientras que, para disminuir la diferencia en las escalas de las variables numéricas, se usó el proceso de estandarización. </li>\n",
    "    <li>El rendimiento del modelo se evaluó mediante métricas como exactitud, precisión, e incluso, se aplicó la puntuación F1. Esta última permitió determinar el rendimiento de manera más óptima, puesto que, se emplea para tratar datos desbalanceados. Para aumentar el porcentaje del mismo, se realizó el balanceamiento de los datos mediante la técnica de sobremuestreo de minorías sintéticas lo que permitió obtener, aproximadamente, una exactitud de 0.77 y una puntuación F1 de 0.78.</li>\n",
    "</ul>"
   ]
  }
 ],
 "metadata": {
  "kernelspec": {
   "display_name": "Python 3 (ipykernel)",
   "language": "python",
   "name": "python3"
  },
  "language_info": {
   "codemirror_mode": {
    "name": "ipython",
    "version": 3
   },
   "file_extension": ".py",
   "mimetype": "text/x-python",
   "name": "python",
   "nbconvert_exporter": "python",
   "pygments_lexer": "ipython3",
   "version": "3.9.16"
  }
 },
 "nbformat": 4,
 "nbformat_minor": 5
}
